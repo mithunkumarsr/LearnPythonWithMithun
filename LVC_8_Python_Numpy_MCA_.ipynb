{
  "nbformat": 4,
  "nbformat_minor": 0,
  "metadata": {
    "colab": {
      "provenance": [],
      "include_colab_link": true
    },
    "kernelspec": {
      "name": "python3",
      "display_name": "Python 3"
    },
    "language_info": {
      "name": "python"
    }
  },
  "cells": [
    {
      "cell_type": "markdown",
      "metadata": {
        "id": "view-in-github",
        "colab_type": "text"
      },
      "source": [
        "<a href=\"https://colab.research.google.com/github/mithunkumarsr/LearnPythonWithMithun/blob/master/LVC_8_Python_Numpy_MCA_.ipynb\" target=\"_parent\"><img src=\"https://colab.research.google.com/assets/colab-badge.svg\" alt=\"Open In Colab\"/></a>"
      ]
    },
    {
      "cell_type": "markdown",
      "source": [
        "# NumPy"
      ],
      "metadata": {
        "id": "k3-aLV4gNsKd"
      }
    },
    {
      "cell_type": "markdown",
      "source": [
        "\n",
        "\n",
        "---\n",
        "\n",
        "\n",
        "**Content:**\n",
        "\n",
        "\n",
        "1.  Introduction to Numpy\n",
        "\n",
        "2.   Creating Arrays\n",
        "\n",
        "1.  Array Indexing\n",
        "\n",
        "2.   Array Slicing\n",
        "\n",
        "1.   Array Shape and Reshape\n",
        "\n",
        "2.   Array Iterating\n",
        "\n",
        "1.   Array Joining and Spliting\n",
        "\n",
        "2.   Array Search, Sort and Filter\n",
        "\n",
        "1.   Random Introduction\n",
        "\n",
        "2.   ufunc Introduction\n",
        "\n",
        "1.   ufunc_Finding LCM and GCD\n",
        "\n",
        "2.   ufunc_Set Operations\n",
        "\n",
        "\n",
        "\n",
        "\n",
        "---\n",
        "\n",
        "\n"
      ],
      "metadata": {
        "id": "GDBy70F-TwmK"
      }
    },
    {
      "cell_type": "markdown",
      "source": [
        "**NumPy** is a general-purpose array-processing package.\n",
        " It provides a high-performance multidimensional array object, and tools for working with these arrays.\n",
        "\n",
        "  It is the fundamental package for scientific computing with Python.\n",
        "  It is open-source software.\n",
        "   It contains various features including these important ones:\n",
        "\n",
        "\n",
        "*   A powerful N-dimensional array object\n",
        "*   Sophisticated (broadcasting) functions\n",
        "\n",
        "*   Tools for integrating C/C++ and Fortran code\n",
        "*   Useful linear algebra, Fourier transform, and random number capabilities\n",
        "\n",
        "\n"
      ],
      "metadata": {
        "id": "cuZt9-kINo_e"
      }
    },
    {
      "cell_type": "markdown",
      "source": [
        "**Using Numpy Arrays**"
      ],
      "metadata": {
        "id": "1QHiZ0_x8lED"
      }
    },
    {
      "cell_type": "markdown",
      "source": [
        "The main reason to use **NumPy** is that it\n",
        "\n",
        "*   **provides a high-performance** alternative to Python's built-in lists.\n",
        "*   NumPy arrays are more efficient than lists in terms of **memory usage and computation time**.\n",
        "\n",
        "*   **NumPy arrays are optimized for numerical computations** and are implemented in low-level languages like **C and Fortran**, while lists in Python are implemented in pure Python.\n",
        "*   **NumPy is faster** than lists because of its implementation in low-level languages and the use of vectorized operations.\n",
        "\n",
        "\n",
        "\n",
        "*   **Vectorized operations** allow for operations on entire arrays without the need for explicit looping.\n",
        "*   NumPy is written in the **C programming language**.\n",
        "\n",
        "\n",
        "\n"
      ],
      "metadata": {
        "id": "hVYc4wMR8Vh9"
      }
    },
    {
      "cell_type": "code",
      "execution_count": 3,
      "metadata": {
        "id": "GnKZrCcxNmVC"
      },
      "outputs": [],
      "source": [
        "#pip install numpy\n",
        "import numpy as np"
      ]
    },
    {
      "cell_type": "markdown",
      "source": [
        "**Creation Numpy**"
      ],
      "metadata": {
        "id": "AMUoJJjRRYKj"
      }
    },
    {
      "cell_type": "code",
      "source": [
        "mylist=[1,2,3,4]\n",
        "print(mylist)\n",
        "print(type(mylist))"
      ],
      "metadata": {
        "colab": {
          "base_uri": "https://localhost:8080/"
        },
        "id": "uJQXJjgGOQ8m",
        "outputId": "dd268744-8804-4a57-917b-d0132d276d8d"
      },
      "execution_count": 4,
      "outputs": [
        {
          "output_type": "stream",
          "name": "stdout",
          "text": [
            "[1, 2, 3, 4]\n",
            "<class 'list'>\n"
          ]
        }
      ]
    },
    {
      "cell_type": "code",
      "source": [
        "#converson from list object to n dimensional Array\n",
        "np.array(mylist)\n",
        "print(\"Array Elements are:   \", mylist)\n",
        "print(\"Type of mylist variable is:  \", type(mylist))\n"
      ],
      "metadata": {
        "colab": {
          "base_uri": "https://localhost:8080/"
        },
        "id": "bJu1LIczOa0u",
        "outputId": "f3e8202c-2619-4e1e-eadc-eed34a743d5b"
      },
      "execution_count": 5,
      "outputs": [
        {
          "output_type": "stream",
          "name": "stdout",
          "text": [
            "Array Elements are:    [1, 2, 3, 4]\n",
            "Type of mylist variable is:   <class 'list'>\n"
          ]
        }
      ]
    },
    {
      "cell_type": "markdown",
      "source": [
        "np.arange is a function in the NumPy library that generates a ndarray (i.e., a N-dimensional array) with evenly spaced values within a given range. The syntax for using np.arange is as follows:\n",
        "\n",
        "np.arange(start, stop, step, dtype)\n"
      ],
      "metadata": {
        "id": "BPCjm78ToJ_W"
      }
    },
    {
      "cell_type": "markdown",
      "source": [
        "where:\n",
        "\n",
        "\n",
        "1.   **start (optional)** is the starting value of the sequence. The default value is 0.\n",
        "2.   **stop** is the ending value of the sequence. This value is not included in the generated array.\n",
        "\n",
        "1.  **step (optional)** is the difference between each value in the sequence. The default value is 1.\n",
        "2.   **dtype (optional)** is the data type of the elements in the generated array. The default value is float.\n",
        "\n"
      ],
      "metadata": {
        "id": "-ecFGdWwoVUh"
      }
    },
    {
      "cell_type": "code",
      "source": [
        "print(np.arange(0,11,1))\n",
        "print(np.arange(0,11,2))"
      ],
      "metadata": {
        "colab": {
          "base_uri": "https://localhost:8080/"
        },
        "id": "XKCzJlOJO37O",
        "outputId": "cdd51982-bca1-41c5-b518-04645e0a48cd"
      },
      "execution_count": 6,
      "outputs": [
        {
          "output_type": "stream",
          "name": "stdout",
          "text": [
            "[ 0  1  2  3  4  5  6  7  8  9 10]\n",
            "[ 0  2  4  6  8 10]\n"
          ]
        }
      ]
    },
    {
      "cell_type": "code",
      "source": [
        "np.zeros(3)"
      ],
      "metadata": {
        "colab": {
          "base_uri": "https://localhost:8080/"
        },
        "id": "h5ucZdZFPKQe",
        "outputId": "7e670aba-4526-43ca-e1b9-ed4972bc3a67"
      },
      "execution_count": 7,
      "outputs": [
        {
          "output_type": "execute_result",
          "data": {
            "text/plain": [
              "array([0., 0., 0.])"
            ]
          },
          "metadata": {},
          "execution_count": 7
        }
      ]
    },
    {
      "cell_type": "code",
      "source": [
        "np.zeros((4,4))"
      ],
      "metadata": {
        "colab": {
          "base_uri": "https://localhost:8080/"
        },
        "id": "UqTxG1RmPRBY",
        "outputId": "f232a87c-0d74-4778-d8cd-d0ca941ce2d9"
      },
      "execution_count": 8,
      "outputs": [
        {
          "output_type": "execute_result",
          "data": {
            "text/plain": [
              "array([[0., 0., 0., 0.],\n",
              "       [0., 0., 0., 0.],\n",
              "       [0., 0., 0., 0.],\n",
              "       [0., 0., 0., 0.]])"
            ]
          },
          "metadata": {},
          "execution_count": 8
        }
      ]
    },
    {
      "cell_type": "code",
      "source": [
        "np.ones((3,3))"
      ],
      "metadata": {
        "colab": {
          "base_uri": "https://localhost:8080/"
        },
        "id": "UxYtPdZDPaBe",
        "outputId": "6c62f716-bafe-439b-9c1a-be30d7c12635"
      },
      "execution_count": 9,
      "outputs": [
        {
          "output_type": "execute_result",
          "data": {
            "text/plain": [
              "array([[1., 1., 1.],\n",
              "       [1., 1., 1.],\n",
              "       [1., 1., 1.]])"
            ]
          },
          "metadata": {},
          "execution_count": 9
        }
      ]
    },
    {
      "cell_type": "code",
      "source": [
        "np.linspace(0,10,3)"
      ],
      "metadata": {
        "colab": {
          "base_uri": "https://localhost:8080/"
        },
        "id": "5R1CcnbRPhGZ",
        "outputId": "c49c0111-6b96-41a1-ec05-ce62968db430"
      },
      "execution_count": 10,
      "outputs": [
        {
          "output_type": "execute_result",
          "data": {
            "text/plain": [
              "array([ 0.,  5., 10.])"
            ]
          },
          "metadata": {},
          "execution_count": 10
        }
      ]
    },
    {
      "cell_type": "code",
      "source": [
        "np.linspace(0,10,21)"
      ],
      "metadata": {
        "colab": {
          "base_uri": "https://localhost:8080/"
        },
        "id": "cfle7HFDP0zA",
        "outputId": "f0281cf2-776a-4294-c798-1e36dc2a8a8d"
      },
      "execution_count": 12,
      "outputs": [
        {
          "output_type": "execute_result",
          "data": {
            "text/plain": [
              "array([ 0. ,  0.5,  1. ,  1.5,  2. ,  2.5,  3. ,  3.5,  4. ,  4.5,  5. ,\n",
              "        5.5,  6. ,  6.5,  7. ,  7.5,  8. ,  8.5,  9. ,  9.5, 10. ])"
            ]
          },
          "metadata": {},
          "execution_count": 12
        }
      ]
    },
    {
      "cell_type": "code",
      "source": [
        "#identity matrix\n",
        "np.eye(5)"
      ],
      "metadata": {
        "colab": {
          "base_uri": "https://localhost:8080/"
        },
        "id": "t-64zTwNP6UY",
        "outputId": "d1dd2d0b-7d71-4de3-a72c-8f680f6721ad"
      },
      "execution_count": 13,
      "outputs": [
        {
          "output_type": "execute_result",
          "data": {
            "text/plain": [
              "array([[1., 0., 0., 0., 0.],\n",
              "       [0., 1., 0., 0., 0.],\n",
              "       [0., 0., 1., 0., 0.],\n",
              "       [0., 0., 0., 1., 0.],\n",
              "       [0., 0., 0., 0., 1.]])"
            ]
          },
          "metadata": {},
          "execution_count": 13
        }
      ]
    },
    {
      "cell_type": "markdown",
      "source": [
        "np.random.rand is a function in the NumPy library that generates random numbers from a uniform distribution. The rand function generates an array of specified shape filled with random values between 0 and 1.\n",
        "\n",
        "The syntax for using np.random.rand is as follows:\n",
        "***np.random.rand(d0, d1, ..., dn)***\n"
      ],
      "metadata": {
        "id": "XlLWBsONsryu"
      }
    },
    {
      "cell_type": "markdown",
      "source": [
        "For example, if you want to generate a 1-dimensional array with 2 random numbers, you can use the following code:\n",
        "\n"
      ],
      "metadata": {
        "id": "wVNZ0nh5s6yX"
      }
    },
    {
      "cell_type": "code",
      "source": [
        "np.random.rand(2)"
      ],
      "metadata": {
        "colab": {
          "base_uri": "https://localhost:8080/"
        },
        "id": "oxqZkPtbQBgv",
        "outputId": "2f0cac4c-dad7-4cf6-bc1a-ebfb3ba2a066"
      },
      "execution_count": 14,
      "outputs": [
        {
          "output_type": "execute_result",
          "data": {
            "text/plain": [
              "array([0.65061776, 0.40428228])"
            ]
          },
          "metadata": {},
          "execution_count": 14
        }
      ]
    },
    {
      "cell_type": "code",
      "source": [
        "#uniform distribution\n",
        "np.random.rand(3,4)"
      ],
      "metadata": {
        "colab": {
          "base_uri": "https://localhost:8080/"
        },
        "id": "_aqubagAQBof",
        "outputId": "2f05a4e2-db42-4646-d20d-38a77b707b9b"
      },
      "execution_count": 15,
      "outputs": [
        {
          "output_type": "execute_result",
          "data": {
            "text/plain": [
              "array([[0.44150063, 0.37519042, 0.34994333, 0.63053611],\n",
              "       [0.58335052, 0.8066006 , 0.68504127, 0.50584443],\n",
              "       [0.08896547, 0.64803036, 0.80940794, 0.63299684]])"
            ]
          },
          "metadata": {},
          "execution_count": 15
        }
      ]
    },
    {
      "cell_type": "markdown",
      "source": [
        "The function **np.random.randn**generates random numbers from the \"standard normal\" distribution (mean of 0 and standard deviation of 1)."
      ],
      "metadata": {
        "id": "0QrlAn9P18SU"
      }
    },
    {
      "cell_type": "code",
      "source": [
        "# norma distribution\n",
        "np.random.randn(5,5)"
      ],
      "metadata": {
        "colab": {
          "base_uri": "https://localhost:8080/"
        },
        "id": "H-rjc3pIQZVB",
        "outputId": "a79bb803-b335-4e7c-b7bf-fa37a155f669"
      },
      "execution_count": 16,
      "outputs": [
        {
          "output_type": "execute_result",
          "data": {
            "text/plain": [
              "array([[ 2.20921676, -1.48178736, -1.12821825, -1.36011839,  0.27578423],\n",
              "       [-0.90676452, -0.75640734,  0.00633167,  0.67013896, -1.63018109],\n",
              "       [-0.32023366,  1.9970305 , -0.19935119, -1.53810686, -0.65892686],\n",
              "       [-0.69672701,  0.01585583,  1.64228542, -1.61722749,  0.12893627],\n",
              "       [-0.3960038 ,  1.18953366, -0.43964067,  0.72383551, -1.11984121]])"
            ]
          },
          "metadata": {},
          "execution_count": 16
        }
      ]
    },
    {
      "cell_type": "markdown",
      "source": [
        "**numpy.random.randint** is a function in the NumPy library that generates random integers between a specified low and high value (inclusive).\n",
        "\n",
        "`random.randint(low, high=None, size=None,` `dtype=int)`\n",
        "\n",
        "\n",
        "Return random integers from low (inclusive) to high (exclusive)\n",
        "\n",
        "\n",
        "\n",
        "*   low: The low end of the interval (inclusive). This parameter is required.\n",
        "*   high: The high end of the interval (exclusive). If high is not specified, low will be taken as the high value and low as 0.\n",
        "\n",
        "*   size: The shape of the output array. If size is not specified, a single integer will be generated.\n",
        "dtype: The data type of the output array.int\n",
        "\n",
        "\n",
        "\n",
        "\n",
        "\n",
        "\n"
      ],
      "metadata": {
        "id": "SiXssnFd2UQ8"
      }
    },
    {
      "cell_type": "code",
      "source": [
        "np.random.randint(1,100)"
      ],
      "metadata": {
        "colab": {
          "base_uri": "https://localhost:8080/"
        },
        "id": "zPMn2VyKQomS",
        "outputId": "5c585aa6-7974-45a8-f562-517e2030564e"
      },
      "execution_count": 17,
      "outputs": [
        {
          "output_type": "execute_result",
          "data": {
            "text/plain": [
              "37"
            ]
          },
          "metadata": {},
          "execution_count": 17
        }
      ]
    },
    {
      "cell_type": "code",
      "source": [
        "np.random.randint(1,100, 5)"
      ],
      "metadata": {
        "colab": {
          "base_uri": "https://localhost:8080/"
        },
        "id": "nlRFXf6PQwjZ",
        "outputId": "a2645be4-70d6-450d-c1d9-46abc50b8933"
      },
      "execution_count": 18,
      "outputs": [
        {
          "output_type": "execute_result",
          "data": {
            "text/plain": [
              "array([60,  1, 94,  1, 10])"
            ]
          },
          "metadata": {},
          "execution_count": 18
        }
      ]
    },
    {
      "cell_type": "code",
      "source": [
        "np.random.randint(1,100, (2,3))"
      ],
      "metadata": {
        "colab": {
          "base_uri": "https://localhost:8080/"
        },
        "id": "QMLqvYSpQ0cp",
        "outputId": "121517bc-a99d-422d-f664-14f9fe767220"
      },
      "execution_count": 22,
      "outputs": [
        {
          "output_type": "execute_result",
          "data": {
            "text/plain": [
              "array([[83, 87, 75],\n",
              "       [75, 88, 24]])"
            ]
          },
          "metadata": {},
          "execution_count": 22
        }
      ]
    },
    {
      "cell_type": "code",
      "source": [
        "np.random.seed(42)\n",
        "np.random.rand(4)"
      ],
      "metadata": {
        "colab": {
          "base_uri": "https://localhost:8080/"
        },
        "id": "FE0H904pQ4BB",
        "outputId": "cb16f721-d2bb-456c-9735-9be3fba9026b"
      },
      "execution_count": 21,
      "outputs": [
        {
          "output_type": "execute_result",
          "data": {
            "text/plain": [
              "array([0.37454012, 0.95071431, 0.73199394, 0.59865848])"
            ]
          },
          "metadata": {},
          "execution_count": 21
        }
      ]
    },
    {
      "cell_type": "code",
      "source": [
        "np.random.seed(42)\n",
        "np.random.rand(4)"
      ],
      "metadata": {
        "colab": {
          "base_uri": "https://localhost:8080/"
        },
        "id": "yoSzdjJyei-q",
        "outputId": "be45d55d-fe56-43ce-d892-0d3fa1f2658f"
      },
      "execution_count": 23,
      "outputs": [
        {
          "output_type": "execute_result",
          "data": {
            "text/plain": [
              "array([0.37454012, 0.95071431, 0.73199394, 0.59865848])"
            ]
          },
          "metadata": {},
          "execution_count": 23
        }
      ]
    },
    {
      "cell_type": "code",
      "source": [
        "import numpy as np\n",
        "\n",
        "# Seed the random number generator with 42\n",
        "np.random.seed(25)\n",
        "\n",
        "# Generate random numbers with shape (3, 3)\n",
        "random_numbers_1 = np.random.rand(3, 3)\n",
        "print(random_numbers_1)\n",
        "\n",
        "# Output:\n",
        "# [[0.37454012 0.95071431 0.73199394]\n",
        "#  [0.59865848 0.15601864 0.15599452]\n",
        "#  [0.05808361 0.86617615 0.60111501]]\n",
        "print(\"Again with same seed value\")\n",
        "# Run the code again\n",
        "\n",
        "# Seed the random number generator with 42\n",
        "np.random.seed(25)\n",
        "\n",
        "# Generate random numbers with shape (3, 3)\n",
        "random_numbers_2 = np.random.rand(3, 3)\n",
        "print(random_numbers_2)\n",
        "\n",
        "# Output:\n",
        "# [[0.37454012 0.95071431 0.73199394]\n",
        "#  [0.59865848 0.15601864 0.15599452]\n",
        "#  [0.05808361 0.86617615 0.60111501]]\n"
      ],
      "metadata": {
        "id": "pS8DD16R9vNY",
        "colab": {
          "base_uri": "https://localhost:8080/"
        },
        "outputId": "6a7b5acb-5cd3-4b91-e571-f37caa3066e8"
      },
      "execution_count": 24,
      "outputs": [
        {
          "output_type": "stream",
          "name": "stdout",
          "text": [
            "[[0.87012414 0.58227693 0.27883894]\n",
            " [0.18591123 0.41110013 0.11737555]\n",
            " [0.68496874 0.43761106 0.55622933]]\n",
            "Again with same seed value\n",
            "[[0.87012414 0.58227693 0.27883894]\n",
            " [0.18591123 0.41110013 0.11737555]\n",
            " [0.68496874 0.43761106 0.55622933]]\n"
          ]
        }
      ]
    },
    {
      "cell_type": "code",
      "source": [
        "# Python program to demonstrate\n",
        "# basic array characteristics\n",
        "import numpy as np\n",
        "\n",
        "# Creating array object\n",
        "arr = np.array( [[ 1, 2, 3],\n",
        "\t\t\t\t[ 4, 2, 5]] )\n",
        "\n",
        "# Printing type of arr object\n",
        "print(\"Array is of type: \", type(arr))\n",
        "\n",
        "# Printing array dimensions (axes)\n",
        "print(\"No. of dimensions: \", arr.ndim)\n",
        "\n",
        "# Printing shape of array\n",
        "print(\"Shape of array: \", arr.shape)\n",
        "\n",
        "# Printing size (total number of elements) of array\n",
        "print(\"Size of array: \", arr.size)\n",
        "\n",
        "# Printing type of elements in array\n",
        "print(\"Array stores elements of type: \", arr.dtype)\n"
      ],
      "metadata": {
        "colab": {
          "base_uri": "https://localhost:8080/"
        },
        "id": "irXpwraXSQYb",
        "outputId": "3489295e-d495-4729-b2e8-eb31d5d5acba"
      },
      "execution_count": 25,
      "outputs": [
        {
          "output_type": "stream",
          "name": "stdout",
          "text": [
            "Array is of type:  <class 'numpy.ndarray'>\n",
            "No. of dimensions:  2\n",
            "Shape of array:  (2, 3)\n",
            "Size of array:  6\n",
            "Array stores elements of type:  int64\n"
          ]
        }
      ]
    },
    {
      "cell_type": "code",
      "source": [
        "# Python program to demonstrate\n",
        "# array creation techniques\n",
        "import numpy as np\n",
        "\n",
        "# Creating array from list with type float\n",
        "a = np.array([[1, 2, 4], [5, 8, 7]], dtype = 'float')\n",
        "print (\"Array created using passed list:\\n\", a)\n",
        "\n",
        "# Creating array from tuple\n",
        "b = np.array((1 , 3, 2))\n",
        "print (\"\\nArray created using passed tuple:\\n\", b)\n",
        "\n",
        "# Creating a 3X4 array with all zeros\n",
        "c = np.zeros((3, 4))\n",
        "print (\"\\nAn array initialized with all zeros:\\n\", c)\n",
        "\n",
        "# Create a constant value array of complex type\n",
        "d = np.full((3, 3), 6, dtype = 'complex')\n",
        "print (\"\\nAn array initialized with all 6s.\"\n",
        "\t\t\t\"Array type is complex:\\n\", d)\n",
        "\n",
        "# Create an array with random values\n",
        "e = np.random.random((2, 2))\n",
        "print (\"\\nA random array:\\n\", e)\n",
        "\n",
        "# Create a sequence of integers\n",
        "# from 0 to 30 with steps of 5\n",
        "f = np.arange(0, 30, 5)\n",
        "print (\"\\nA sequential array with steps of 5:\\n\", f)\n",
        "\n",
        "# Create a sequence of 10 values in range 0 to 5\n",
        "g = np.linspace(0, 5, 10)\n",
        "print (\"\\nA sequential array with 10 values between\"\n",
        "\t\t\t\t\t\t\t\t\t\t\"0 and 5:\\n\", g)\n",
        "\n",
        "# Reshaping 3X4 array to 2X2X3 array\n",
        "arr = np.array([[1, 2, 3, 4],\n",
        "\t\t\t\t[5, 2, 4, 2],\n",
        "\t\t\t\t[1, 2, 0, 1]])\n",
        "\n",
        "newarr = arr.reshape(2, 2, 3)\n",
        "\n",
        "print (\"\\nOriginal array:\\n\", arr)\n",
        "print (\"Reshaped array:\\n\", newarr)\n",
        "\n",
        "# Flatten array\n",
        "arr = np.array([[1, 2, 3], [4, 5, 6]])\n",
        "flarr = arr.flatten()\n",
        "\n",
        "print (\"\\nOriginal array:\\n\", arr)\n",
        "print (\"Fattened array:\\n\", flarr)\n"
      ],
      "metadata": {
        "colab": {
          "base_uri": "https://localhost:8080/"
        },
        "id": "d2TkYVnwSZZS",
        "outputId": "bfaed729-da77-4538-f1cf-70a66e903a73"
      },
      "execution_count": 26,
      "outputs": [
        {
          "output_type": "stream",
          "name": "stdout",
          "text": [
            "Array created using passed list:\n",
            " [[1. 2. 4.]\n",
            " [5. 8. 7.]]\n",
            "\n",
            "Array created using passed tuple:\n",
            " [1 3 2]\n",
            "\n",
            "An array initialized with all zeros:\n",
            " [[0. 0. 0. 0.]\n",
            " [0. 0. 0. 0.]\n",
            " [0. 0. 0. 0.]]\n",
            "\n",
            "An array initialized with all 6s.Array type is complex:\n",
            " [[6.+0.j 6.+0.j 6.+0.j]\n",
            " [6.+0.j 6.+0.j 6.+0.j]\n",
            " [6.+0.j 6.+0.j 6.+0.j]]\n",
            "\n",
            "A random array:\n",
            " [[0.36708032 0.40236573]\n",
            " [0.1130407  0.44703085]]\n",
            "\n",
            "A sequential array with steps of 5:\n",
            " [ 0  5 10 15 20 25]\n",
            "\n",
            "A sequential array with 10 values between0 and 5:\n",
            " [0.         0.55555556 1.11111111 1.66666667 2.22222222 2.77777778\n",
            " 3.33333333 3.88888889 4.44444444 5.        ]\n",
            "\n",
            "Original array:\n",
            " [[1 2 3 4]\n",
            " [5 2 4 2]\n",
            " [1 2 0 1]]\n",
            "Reshaped array:\n",
            " [[[1 2 3]\n",
            "  [4 5 2]]\n",
            "\n",
            " [[4 2 1]\n",
            "  [2 0 1]]]\n",
            "\n",
            "Original array:\n",
            " [[1 2 3]\n",
            " [4 5 6]]\n",
            "Fattened array:\n",
            " [1 2 3 4 5 6]\n"
          ]
        }
      ]
    },
    {
      "cell_type": "markdown",
      "source": [
        "**Numpy Builtin functions and attributes**"
      ],
      "metadata": {
        "id": "tBDul20hYqzA"
      }
    },
    {
      "cell_type": "markdown",
      "source": [
        "**Reshape**"
      ],
      "metadata": {
        "id": "E0ni2DL0SDKS"
      }
    },
    {
      "cell_type": "code",
      "source": [
        "arr=np.random.randint(1,100,6)\n",
        "print(\"arr\", arr)\n",
        "\n",
        "randarr=np.random.rand(25)\n",
        "print(\"randarr\", randarr)"
      ],
      "metadata": {
        "colab": {
          "base_uri": "https://localhost:8080/"
        },
        "id": "r9j2qutI-v5o",
        "outputId": "08eb2a62-9fe5-4f78-9d15-f276738ff92d"
      },
      "execution_count": 27,
      "outputs": [
        {
          "output_type": "stream",
          "name": "stdout",
          "text": [
            "arr [46  4  2 23 32 49]\n",
            "randarr [0.32605113 0.69918624 0.36639455 0.83637451 0.48134294 0.5165023\n",
            " 0.38304813 0.9975409  0.51424449 0.55905327 0.03444977 0.71993003\n",
            " 0.42100355 0.43693513 0.28170075 0.90027434 0.66961228 0.45606875\n",
            " 0.28980434 0.52581896 0.55924206 0.74528383 0.82834625 0.82369445\n",
            " 0.07714032]\n"
          ]
        }
      ]
    },
    {
      "cell_type": "code",
      "source": [
        "print(arr.shape)\n",
        "print(randarr.shape)"
      ],
      "metadata": {
        "colab": {
          "base_uri": "https://localhost:8080/"
        },
        "id": "mp8IV3lGXCJe",
        "outputId": "9956bd5b-1c3f-4602-a55a-de520d53f410"
      },
      "execution_count": 28,
      "outputs": [
        {
          "output_type": "stream",
          "name": "stdout",
          "text": [
            "(6,)\n",
            "(25,)\n"
          ]
        }
      ]
    },
    {
      "cell_type": "code",
      "source": [
        "randarr.reshape(5,5)\n",
        "#randarr.reshape(6,3)"
      ],
      "metadata": {
        "colab": {
          "base_uri": "https://localhost:8080/"
        },
        "id": "WI2puNTmXkXu",
        "outputId": "c34eb6ee-a99e-4299-d584-d37fc2846963"
      },
      "execution_count": 29,
      "outputs": [
        {
          "output_type": "execute_result",
          "data": {
            "text/plain": [
              "array([[0.32605113, 0.69918624, 0.36639455, 0.83637451, 0.48134294],\n",
              "       [0.5165023 , 0.38304813, 0.9975409 , 0.51424449, 0.55905327],\n",
              "       [0.03444977, 0.71993003, 0.42100355, 0.43693513, 0.28170075],\n",
              "       [0.90027434, 0.66961228, 0.45606875, 0.28980434, 0.52581896],\n",
              "       [0.55924206, 0.74528383, 0.82834625, 0.82369445, 0.07714032]])"
            ]
          },
          "metadata": {},
          "execution_count": 29
        }
      ]
    },
    {
      "cell_type": "code",
      "source": [
        "# Maximum value\n",
        "arr.max()"
      ],
      "metadata": {
        "colab": {
          "base_uri": "https://localhost:8080/"
        },
        "id": "3XSdOke9Yyk4",
        "outputId": "5f40a431-16f9-4890-c74c-394311bfde7e"
      },
      "execution_count": 30,
      "outputs": [
        {
          "output_type": "execute_result",
          "data": {
            "text/plain": [
              "49"
            ]
          },
          "metadata": {},
          "execution_count": 30
        }
      ]
    },
    {
      "cell_type": "code",
      "source": [
        "# Minimum value\n",
        "arr.min()"
      ],
      "metadata": {
        "colab": {
          "base_uri": "https://localhost:8080/"
        },
        "id": "zwCJ4e85ZMLp",
        "outputId": "67b0efc8-3f2c-4911-c082-be1596e9c4e7"
      },
      "execution_count": 31,
      "outputs": [
        {
          "output_type": "execute_result",
          "data": {
            "text/plain": [
              "2"
            ]
          },
          "metadata": {},
          "execution_count": 31
        }
      ]
    },
    {
      "cell_type": "code",
      "source": [
        "# index number of maximum argument\n",
        "arr.argmax()"
      ],
      "metadata": {
        "colab": {
          "base_uri": "https://localhost:8080/"
        },
        "id": "PjNLl7krY5gi",
        "outputId": "1d30c8fa-0ecd-4b9b-cef5-0d0d13eb7cc8"
      },
      "execution_count": 32,
      "outputs": [
        {
          "output_type": "execute_result",
          "data": {
            "text/plain": [
              "5"
            ]
          },
          "metadata": {},
          "execution_count": 32
        }
      ]
    },
    {
      "cell_type": "code",
      "source": [
        "# Minimum value\n",
        "arr.argmin()"
      ],
      "metadata": {
        "colab": {
          "base_uri": "https://localhost:8080/"
        },
        "id": "t22-DKEUZVPp",
        "outputId": "4053359c-e0ae-4dbf-af11-29ee1a95fc10"
      },
      "execution_count": 33,
      "outputs": [
        {
          "output_type": "execute_result",
          "data": {
            "text/plain": [
              "2"
            ]
          },
          "metadata": {},
          "execution_count": 33
        }
      ]
    },
    {
      "cell_type": "markdown",
      "source": [
        "**Numpy Indexing and selection**"
      ],
      "metadata": {
        "id": "C2QGX-ZeZqTo"
      }
    },
    {
      "cell_type": "code",
      "source": [
        "#Grabiing Single Element\n",
        "arr=np.arange(0,11)\n",
        "print(arr)"
      ],
      "metadata": {
        "id": "a3M6W42wa5CC",
        "colab": {
          "base_uri": "https://localhost:8080/"
        },
        "outputId": "b9559433-95a0-41ae-bf54-f0301d1cd714"
      },
      "execution_count": 34,
      "outputs": [
        {
          "output_type": "stream",
          "name": "stdout",
          "text": [
            "[ 0  1  2  3  4  5  6  7  8  9 10]\n"
          ]
        }
      ]
    },
    {
      "cell_type": "code",
      "source": [
        "print(arr[8])# Single element\n",
        "print(arr[1:5])\n",
        "print(arr[0:5])\n",
        "print(arr[:])\n",
        "\n"
      ],
      "metadata": {
        "colab": {
          "base_uri": "https://localhost:8080/"
        },
        "id": "cvRDNCwQbNIK",
        "outputId": "51615aaf-7641-4e60-c3e5-0ef7bb7393b0"
      },
      "execution_count": 35,
      "outputs": [
        {
          "output_type": "stream",
          "name": "stdout",
          "text": [
            "8\n",
            "[1 2 3 4]\n",
            "[0 1 2 3 4]\n",
            "[ 0  1  2  3  4  5  6  7  8  9 10]\n"
          ]
        }
      ]
    },
    {
      "cell_type": "code",
      "source": [
        "print(arr[:-1])"
      ],
      "metadata": {
        "colab": {
          "base_uri": "https://localhost:8080/"
        },
        "id": "9RvwWwpNbuwV",
        "outputId": "10cb6348-2752-4370-d1c0-fb3553b4056d"
      },
      "execution_count": 36,
      "outputs": [
        {
          "output_type": "stream",
          "name": "stdout",
          "text": [
            "[0 1 2 3 4 5 6 7 8 9]\n"
          ]
        }
      ]
    },
    {
      "cell_type": "markdown",
      "source": [
        "**Broadcasting**"
      ],
      "metadata": {
        "id": "HYVw-lTCb987"
      }
    },
    {
      "cell_type": "code",
      "source": [
        "arr[0:5]=100\n",
        "print(arr)"
      ],
      "metadata": {
        "colab": {
          "base_uri": "https://localhost:8080/"
        },
        "id": "JAfPIUihcAO1",
        "outputId": "d21d02d9-d5dc-4861-e5d7-23a6f351a2e9"
      },
      "execution_count": 37,
      "outputs": [
        {
          "output_type": "stream",
          "name": "stdout",
          "text": [
            "[100 100 100 100 100   5   6   7   8   9  10]\n"
          ]
        }
      ]
    },
    {
      "cell_type": "code",
      "source": [
        "slice_of_array=arr[0:5]\n",
        "slice_of_array[:]=99\n",
        "print(slice_of_array)"
      ],
      "metadata": {
        "colab": {
          "base_uri": "https://localhost:8080/"
        },
        "id": "7bBc3IhgcIHk",
        "outputId": "1e9a8aae-2058-4a54-99a1-c0d2432fd9d5"
      },
      "execution_count": 38,
      "outputs": [
        {
          "output_type": "stream",
          "name": "stdout",
          "text": [
            "[99 99 99 99 99]\n"
          ]
        }
      ]
    },
    {
      "cell_type": "code",
      "source": [
        "print(arr)"
      ],
      "metadata": {
        "colab": {
          "base_uri": "https://localhost:8080/"
        },
        "id": "CmqSXCKpcgBv",
        "outputId": "a348931c-9a20-4689-e826-75d34ba97b38"
      },
      "execution_count": 39,
      "outputs": [
        {
          "output_type": "stream",
          "name": "stdout",
          "text": [
            "[99 99 99 99 99  5  6  7  8  9 10]\n"
          ]
        }
      ]
    },
    {
      "cell_type": "code",
      "source": [
        "arr_copy=arr.copy()\n",
        "arr_copy[:]=99\n",
        "print(arr_copy)"
      ],
      "metadata": {
        "colab": {
          "base_uri": "https://localhost:8080/"
        },
        "id": "BrlN-RoIclYs",
        "outputId": "bc85e827-c91e-4e63-ae64-58bd47682824"
      },
      "execution_count": 40,
      "outputs": [
        {
          "output_type": "stream",
          "name": "stdout",
          "text": [
            "[99 99 99 99 99 99 99 99 99 99 99]\n"
          ]
        }
      ]
    },
    {
      "cell_type": "code",
      "source": [
        "print(arr)"
      ],
      "metadata": {
        "colab": {
          "base_uri": "https://localhost:8080/"
        },
        "id": "yIf1YcOScylG",
        "outputId": "80191472-7dd4-419d-8c1e-c4ef47ac163d"
      },
      "execution_count": 41,
      "outputs": [
        {
          "output_type": "stream",
          "name": "stdout",
          "text": [
            "[99 99 99 99 99  5  6  7  8  9 10]\n"
          ]
        }
      ]
    },
    {
      "cell_type": "markdown",
      "source": [
        "Indexing on 2D array"
      ],
      "metadata": {
        "id": "B94c9UB-dxv9"
      }
    },
    {
      "cell_type": "code",
      "source": [
        "import numpy as np\n",
        "arr_2d=np.array([[1,2,3], [4,5,6], [7,8,9]])"
      ],
      "metadata": {
        "id": "d4_KhlRBd1G_"
      },
      "execution_count": 42,
      "outputs": []
    },
    {
      "cell_type": "code",
      "source": [
        "print(arr_2d)"
      ],
      "metadata": {
        "colab": {
          "base_uri": "https://localhost:8080/"
        },
        "id": "C3sGdqwjdwQt",
        "outputId": "e897c8d8-6380-4030-a66c-3e3e52282df0"
      },
      "execution_count": 43,
      "outputs": [
        {
          "output_type": "stream",
          "name": "stdout",
          "text": [
            "[[1 2 3]\n",
            " [4 5 6]\n",
            " [7 8 9]]\n"
          ]
        }
      ]
    },
    {
      "cell_type": "code",
      "source": [
        "arr_2d.shape"
      ],
      "metadata": {
        "colab": {
          "base_uri": "https://localhost:8080/"
        },
        "id": "Oq8fSrkJek26",
        "outputId": "9a5d54fb-fa8e-482c-d142-aebfa42d022d"
      },
      "execution_count": 44,
      "outputs": [
        {
          "output_type": "execute_result",
          "data": {
            "text/plain": [
              "(3, 3)"
            ]
          },
          "metadata": {},
          "execution_count": 44
        }
      ]
    },
    {
      "cell_type": "code",
      "source": [
        "arr_2d[0]"
      ],
      "metadata": {
        "colab": {
          "base_uri": "https://localhost:8080/"
        },
        "id": "IcSSP835epVS",
        "outputId": "af25ceb5-9476-45e6-a9c3-9b9aaa0c1ae0"
      },
      "execution_count": 45,
      "outputs": [
        {
          "output_type": "execute_result",
          "data": {
            "text/plain": [
              "array([1, 2, 3])"
            ]
          },
          "metadata": {},
          "execution_count": 45
        }
      ]
    },
    {
      "cell_type": "code",
      "source": [
        "arr_2d[2]"
      ],
      "metadata": {
        "colab": {
          "base_uri": "https://localhost:8080/"
        },
        "id": "oCkIP-T3esqy",
        "outputId": "69c354a3-0b22-4d54-cd77-2a0a05e1a5e4"
      },
      "execution_count": 46,
      "outputs": [
        {
          "output_type": "execute_result",
          "data": {
            "text/plain": [
              "array([7, 8, 9])"
            ]
          },
          "metadata": {},
          "execution_count": 46
        }
      ]
    },
    {
      "cell_type": "code",
      "source": [
        "arr_2d[2][0]"
      ],
      "metadata": {
        "colab": {
          "base_uri": "https://localhost:8080/"
        },
        "id": "ShaJckB2eyH5",
        "outputId": "28f38e65-eb41-436b-d821-c16967f529d0"
      },
      "execution_count": 47,
      "outputs": [
        {
          "output_type": "execute_result",
          "data": {
            "text/plain": [
              "7"
            ]
          },
          "metadata": {},
          "execution_count": 47
        }
      ]
    },
    {
      "cell_type": "code",
      "source": [
        "arr_2d[:,0]"
      ],
      "metadata": {
        "colab": {
          "base_uri": "https://localhost:8080/"
        },
        "id": "FVcMfFeJe7h3",
        "outputId": "47fe744c-b6e3-4b02-96dd-f2575758124f"
      },
      "execution_count": 48,
      "outputs": [
        {
          "output_type": "execute_result",
          "data": {
            "text/plain": [
              "array([1, 4, 7])"
            ]
          },
          "metadata": {},
          "execution_count": 48
        }
      ]
    },
    {
      "cell_type": "code",
      "source": [
        "arr_2d[:,1:3]"
      ],
      "metadata": {
        "colab": {
          "base_uri": "https://localhost:8080/"
        },
        "id": "vjvcpXf0fBpY",
        "outputId": "05ca88c4-4796-4706-deb1-725ae0c9eedc"
      },
      "execution_count": 49,
      "outputs": [
        {
          "output_type": "execute_result",
          "data": {
            "text/plain": [
              "array([[2, 3],\n",
              "       [5, 6],\n",
              "       [8, 9]])"
            ]
          },
          "metadata": {},
          "execution_count": 49
        }
      ]
    },
    {
      "cell_type": "code",
      "source": [
        "arr_2d[0:2,1:3]"
      ],
      "metadata": {
        "colab": {
          "base_uri": "https://localhost:8080/"
        },
        "id": "mCl_cKFnfKap",
        "outputId": "fab6d6be-d6d1-42a8-fe28-4cf4c1b7c8e4"
      },
      "execution_count": 51,
      "outputs": [
        {
          "output_type": "execute_result",
          "data": {
            "text/plain": [
              "array([[2, 3],\n",
              "       [5, 6]])"
            ]
          },
          "metadata": {},
          "execution_count": 51
        }
      ]
    },
    {
      "cell_type": "code",
      "source": [
        "# Python program to demonstrate\n",
        "# indexing in numpy\n",
        "import numpy as np\n",
        "\n",
        "# An exemplar array\n",
        "arr = np.array([[-1, 2, 0, 4],\n",
        "\t\t\t\t[4, -0.5, 6, 0],\n",
        "\t\t\t\t[2.6, 0, 7, 8],\n",
        "\t\t\t\t[3, -7, 4, 2.0]])\n",
        "\n",
        "# Slicing array\n",
        "temp = arr[:2, ::2]\n",
        "print (\"Array with first 2 rows and alternate\"\n",
        "\t\t\t\t\t\"columns(0 and 2):\\n\", temp)\n",
        "\n",
        "# Integer array indexing example\n",
        "temp = arr[[0, 1, 2, 3], [3, 2, 1, 0]]\n",
        "print (\"\\nElements at indices (0, 3), (1, 2), (2, 1),\"\n",
        "\t\t\t\t\t\t\t\t\t\"(3, 0):\\n\", temp)\n",
        "\n",
        "# boolean array indexing example\n",
        "cond = arr > 0 # cond is a boolean array\n",
        "temp = arr[cond]\n",
        "print (\"\\nElements greater than 0:\\n\", temp)\n"
      ],
      "metadata": {
        "colab": {
          "base_uri": "https://localhost:8080/"
        },
        "id": "uXH95hXFiTtV",
        "outputId": "15f747b2-e37a-4cca-b227-9ed5a7b0e512"
      },
      "execution_count": 52,
      "outputs": [
        {
          "output_type": "stream",
          "name": "stdout",
          "text": [
            "Array with first 2 rows and alternatecolumns(0 and 2):\n",
            " [[-1.  0.]\n",
            " [ 4.  6.]]\n",
            "\n",
            "Elements at indices (0, 3), (1, 2), (2, 1),(3, 0):\n",
            " [4. 6. 0. 3.]\n",
            "\n",
            "Elements greater than 0:\n",
            " [2.  4.  4.  6.  2.6 7.  8.  3.  4.  2. ]\n"
          ]
        }
      ]
    },
    {
      "cell_type": "markdown",
      "source": [
        "**Conditional selection**"
      ],
      "metadata": {
        "id": "PrW0kBS9f7RA"
      }
    },
    {
      "cell_type": "code",
      "source": [
        "import numpy as np\n",
        "arr=np.arange(1,11)\n",
        "print(arr)"
      ],
      "metadata": {
        "colab": {
          "base_uri": "https://localhost:8080/"
        },
        "id": "qme1ciIIf6nD",
        "outputId": "6f1eb6a9-da87-4dc9-ac72-ece0f26e1c74"
      },
      "execution_count": 53,
      "outputs": [
        {
          "output_type": "stream",
          "name": "stdout",
          "text": [
            "[ 1  2  3  4  5  6  7  8  9 10]\n"
          ]
        }
      ]
    },
    {
      "cell_type": "code",
      "source": [
        "arr>4"
      ],
      "metadata": {
        "colab": {
          "base_uri": "https://localhost:8080/"
        },
        "id": "o74BfoP8gjxw",
        "outputId": "e92e6c6f-f2f2-4447-fba5-545faffb6f66"
      },
      "execution_count": 54,
      "outputs": [
        {
          "output_type": "execute_result",
          "data": {
            "text/plain": [
              "array([False, False, False, False,  True,  True,  True,  True,  True,\n",
              "        True])"
            ]
          },
          "metadata": {},
          "execution_count": 54
        }
      ]
    },
    {
      "cell_type": "code",
      "source": [
        "bool_arr=arr>4\n",
        "arr[bool_arr]"
      ],
      "metadata": {
        "colab": {
          "base_uri": "https://localhost:8080/"
        },
        "id": "gz_W-RaTgxGw",
        "outputId": "d80280ee-9a79-469d-e1f3-560e4da66d03"
      },
      "execution_count": 55,
      "outputs": [
        {
          "output_type": "execute_result",
          "data": {
            "text/plain": [
              "array([ 5,  6,  7,  8,  9, 10])"
            ]
          },
          "metadata": {},
          "execution_count": 55
        }
      ]
    },
    {
      "cell_type": "code",
      "source": [
        "arr[arr>4]"
      ],
      "metadata": {
        "colab": {
          "base_uri": "https://localhost:8080/"
        },
        "id": "-l2APKKJg745",
        "outputId": "33640fa0-aead-4dc7-9245-22f17aa6b2da"
      },
      "execution_count": 56,
      "outputs": [
        {
          "output_type": "execute_result",
          "data": {
            "text/plain": [
              "array([ 5,  6,  7,  8,  9, 10])"
            ]
          },
          "metadata": {},
          "execution_count": 56
        }
      ]
    },
    {
      "cell_type": "markdown",
      "source": [
        "**NumPy Operations**"
      ],
      "metadata": {
        "id": "oQhOrgmUhwxK"
      }
    },
    {
      "cell_type": "code",
      "source": [
        "arr=np.arange(0,10)\n",
        "print(arr)"
      ],
      "metadata": {
        "colab": {
          "base_uri": "https://localhost:8080/"
        },
        "id": "H3xr7qEBh0Na",
        "outputId": "97e7e556-2fb0-432c-ea6c-84da94d5db9a"
      },
      "execution_count": 57,
      "outputs": [
        {
          "output_type": "stream",
          "name": "stdout",
          "text": [
            "[0 1 2 3 4 5 6 7 8 9]\n"
          ]
        }
      ]
    },
    {
      "cell_type": "code",
      "source": [
        "arr+5"
      ],
      "metadata": {
        "colab": {
          "base_uri": "https://localhost:8080/"
        },
        "id": "7BRvgRthh8iZ",
        "outputId": "c4eb68d4-541f-4007-c658-0bbe9e02077c"
      },
      "execution_count": 58,
      "outputs": [
        {
          "output_type": "execute_result",
          "data": {
            "text/plain": [
              "array([ 5,  6,  7,  8,  9, 10, 11, 12, 13, 14])"
            ]
          },
          "metadata": {},
          "execution_count": 58
        }
      ]
    },
    {
      "cell_type": "code",
      "source": [
        "arr-5"
      ],
      "metadata": {
        "colab": {
          "base_uri": "https://localhost:8080/"
        },
        "id": "OTBt7jZ4h_xS",
        "outputId": "827072ce-2700-4c84-812c-3c529fd1eae3"
      },
      "execution_count": 59,
      "outputs": [
        {
          "output_type": "execute_result",
          "data": {
            "text/plain": [
              "array([-5, -4, -3, -2, -1,  0,  1,  2,  3,  4])"
            ]
          },
          "metadata": {},
          "execution_count": 59
        }
      ]
    },
    {
      "cell_type": "code",
      "source": [
        "arr+arr"
      ],
      "metadata": {
        "colab": {
          "base_uri": "https://localhost:8080/"
        },
        "id": "zp-KQZHoiF1p",
        "outputId": "7d999670-875b-448f-f3aa-6263b951dd75"
      },
      "execution_count": 60,
      "outputs": [
        {
          "output_type": "execute_result",
          "data": {
            "text/plain": [
              "array([ 0,  2,  4,  6,  8, 10, 12, 14, 16, 18])"
            ]
          },
          "metadata": {},
          "execution_count": 60
        }
      ]
    },
    {
      "cell_type": "code",
      "source": [
        "arr/arr"
      ],
      "metadata": {
        "colab": {
          "base_uri": "https://localhost:8080/"
        },
        "id": "NSfRyqEBiICw",
        "outputId": "85eb7ef3-b688-4bc2-f03e-3e5a672001ac"
      },
      "execution_count": 61,
      "outputs": [
        {
          "output_type": "stream",
          "name": "stderr",
          "text": [
            "<ipython-input-61-50b4ced5627e>:1: RuntimeWarning: invalid value encountered in divide\n",
            "  arr/arr\n"
          ]
        },
        {
          "output_type": "execute_result",
          "data": {
            "text/plain": [
              "array([nan,  1.,  1.,  1.,  1.,  1.,  1.,  1.,  1.,  1.])"
            ]
          },
          "metadata": {},
          "execution_count": 61
        }
      ]
    },
    {
      "cell_type": "code",
      "source": [
        "# Python program to demonstrate\n",
        "# basic operations on single array\n",
        "import numpy as np\n",
        "\n",
        "a = np.array([1, 2, 5, 3])\n",
        "\n",
        "# add 1 to every element\n",
        "print (\"Adding 1 to every element:\", a+1)\n",
        "\n",
        "# subtract 3 from each element\n",
        "print (\"Subtracting 3 from each element:\", a-3)\n",
        "\n",
        "# multiply each element by 10\n",
        "print (\"Multiplying each element by 10:\", a*10)\n",
        "\n",
        "# square each element\n",
        "print (\"Squaring each element:\", a**2)\n",
        "\n",
        "# modify existing array\n",
        "a *= 2\n",
        "print (\"Doubled each element of original array:\", a)\n",
        "\n",
        "# transpose of array\n",
        "a = np.array([[1, 2, 3], [3, 4, 5], [9, 6, 0]])\n",
        "\n",
        "print (\"\\nOriginal array:\\n\", a)\n",
        "print (\"Transpose of array:\\n\", a.T)\n"
      ],
      "metadata": {
        "colab": {
          "base_uri": "https://localhost:8080/"
        },
        "id": "mOgtO3UZib29",
        "outputId": "416470c2-ccf5-4ad1-c8fd-c8cda18f7bf7"
      },
      "execution_count": 62,
      "outputs": [
        {
          "output_type": "stream",
          "name": "stdout",
          "text": [
            "Adding 1 to every element: [2 3 6 4]\n",
            "Subtracting 3 from each element: [-2 -1  2  0]\n",
            "Multiplying each element by 10: [10 20 50 30]\n",
            "Squaring each element: [ 1  4 25  9]\n",
            "Doubled each element of original array: [ 2  4 10  6]\n",
            "\n",
            "Original array:\n",
            " [[1 2 3]\n",
            " [3 4 5]\n",
            " [9 6 0]]\n",
            "Transpose of array:\n",
            " [[1 3 9]\n",
            " [2 4 6]\n",
            " [3 5 0]]\n"
          ]
        }
      ]
    },
    {
      "cell_type": "code",
      "source": [
        "np.sqrt(arr)"
      ],
      "metadata": {
        "colab": {
          "base_uri": "https://localhost:8080/"
        },
        "id": "o6nwayYsjLrD",
        "outputId": "ff9564f8-3ac6-4fc1-90ee-5d941357d6c0"
      },
      "execution_count": 63,
      "outputs": [
        {
          "output_type": "execute_result",
          "data": {
            "text/plain": [
              "array([0.        , 1.        , 1.41421356, 1.73205081, 2.        ,\n",
              "       2.23606798, 2.44948974, 2.64575131, 2.82842712, 3.        ])"
            ]
          },
          "metadata": {},
          "execution_count": 63
        }
      ]
    },
    {
      "cell_type": "code",
      "source": [
        "print(\"sin\", np.sin(arr))\n",
        "print(\"log\", np.log(arr))\n",
        "print(\"sum\", np.sum(arr))\n",
        "print(\"mean\", np.mean(arr))\n",
        "print(\"max\", np.max(arr))\n",
        "print(\"min\", np.min(arr))\n",
        "\n",
        "print(\"std\", np.std(arr))\n",
        "\n"
      ],
      "metadata": {
        "colab": {
          "base_uri": "https://localhost:8080/"
        },
        "id": "WKMDPFkTjPeU",
        "outputId": "a0613ea3-46ab-41ce-8ec9-92b92479665b"
      },
      "execution_count": 64,
      "outputs": [
        {
          "output_type": "stream",
          "name": "stdout",
          "text": [
            "sin [ 0.          0.84147098  0.90929743  0.14112001 -0.7568025  -0.95892427\n",
            " -0.2794155   0.6569866   0.98935825  0.41211849]\n",
            "log [      -inf 0.         0.69314718 1.09861229 1.38629436 1.60943791\n",
            " 1.79175947 1.94591015 2.07944154 2.19722458]\n",
            "sum 45\n",
            "mean 4.5\n",
            "max 9\n",
            "min 0\n",
            "std 2.8722813232690143\n"
          ]
        },
        {
          "output_type": "stream",
          "name": "stderr",
          "text": [
            "<ipython-input-64-ed4c065786d3>:2: RuntimeWarning: divide by zero encountered in log\n",
            "  print(\"log\", np.log(arr))\n"
          ]
        }
      ]
    },
    {
      "cell_type": "markdown",
      "source": [
        "**https://numpy.org/**"
      ],
      "metadata": {
        "id": "GflOgMjIkmKn"
      }
    },
    {
      "cell_type": "code",
      "source": [
        "# Python program to demonstrate\n",
        "# unary operators in numpy\n",
        "import numpy as np\n",
        "\n",
        "arr = np.array([[1, 5, 6],\n",
        "\t\t\t\t[4, 7, 2],\n",
        "\t\t\t\t[3, 1, 9]])\n",
        "\n",
        "# maximum element of array\n",
        "print (\"Largest element is:\", arr.max())\n",
        "print (\"Row-wise maximum elements:\",\n",
        "\t\t\t\t\tarr.max(axis = 1))\n",
        "\n",
        "# minimum element of array\n",
        "print (\"Column-wise minimum elements:\",\n",
        "\t\t\t\t\t\tarr.min(axis = 0))\n",
        "\n",
        "# sum of array elements\n",
        "print (\"Sum of all array elements:\",\n",
        "\t\t\t\t\t\t\tarr.sum())\n",
        "\n",
        "# cumulative sum along each row\n",
        "print (\"Cumulative sum along each row:\\n\",\n",
        "\t\t\t\t\t\tarr.cumsum(axis = 1))\n"
      ],
      "metadata": {
        "colab": {
          "base_uri": "https://localhost:8080/"
        },
        "id": "S48hNFAdk60W",
        "outputId": "6a1cbdc3-42df-4598-d8d5-2c6c9d7f3f02"
      },
      "execution_count": 65,
      "outputs": [
        {
          "output_type": "stream",
          "name": "stdout",
          "text": [
            "Largest element is: 9\n",
            "Row-wise maximum elements: [6 7 9]\n",
            "Column-wise minimum elements: [1 1 2]\n",
            "Sum of all array elements: 38\n",
            "Cumulative sum along each row:\n",
            " [[ 1  6 12]\n",
            " [ 4 11 13]\n",
            " [ 3  4 13]]\n"
          ]
        }
      ]
    },
    {
      "cell_type": "markdown",
      "source": [
        "Numpy operations on 2D Array"
      ],
      "metadata": {
        "id": "xeCsCAnklsAJ"
      }
    },
    {
      "cell_type": "code",
      "source": [
        "import numpy as np\n",
        "arr=np.arange(0,9).reshape(3,3)\n",
        "print(arr)"
      ],
      "metadata": {
        "id": "Y1MytHkYl002",
        "colab": {
          "base_uri": "https://localhost:8080/"
        },
        "outputId": "8424dfcc-74cb-4ba5-f950-348c93aa5b37"
      },
      "execution_count": 66,
      "outputs": [
        {
          "output_type": "stream",
          "name": "stdout",
          "text": [
            "[[0 1 2]\n",
            " [3 4 5]\n",
            " [6 7 8]]\n"
          ]
        }
      ]
    },
    {
      "cell_type": "code",
      "source": [
        "arr.sum(axis=1)# it means sum will take place across rows so column values will be added."
      ],
      "metadata": {
        "id": "S14Nv5-Ym68h",
        "colab": {
          "base_uri": "https://localhost:8080/"
        },
        "outputId": "9b5823e4-f4d7-4f56-fb70-1e0acd94ff33"
      },
      "execution_count": 67,
      "outputs": [
        {
          "output_type": "execute_result",
          "data": {
            "text/plain": [
              "array([ 3, 12, 21])"
            ]
          },
          "metadata": {},
          "execution_count": 67
        }
      ]
    },
    {
      "cell_type": "code",
      "source": [
        "arr = np.arange(9).reshape(3,3)\n",
        "arr\n",
        "\n"
      ],
      "metadata": {
        "colab": {
          "base_uri": "https://localhost:8080/"
        },
        "id": "j1vWgidmPaLC",
        "outputId": "3242ab10-aa58-48da-c4d0-e9cd265b803c"
      },
      "execution_count": 68,
      "outputs": [
        {
          "output_type": "execute_result",
          "data": {
            "text/plain": [
              "array([[0, 1, 2],\n",
              "       [3, 4, 5],\n",
              "       [6, 7, 8]])"
            ]
          },
          "metadata": {},
          "execution_count": 68
        }
      ]
    },
    {
      "cell_type": "code",
      "source": [
        "# Solution\n",
        "arr[:, [0,1,2]]"
      ],
      "metadata": {
        "colab": {
          "base_uri": "https://localhost:8080/"
        },
        "id": "1g9W4a4APgwb",
        "outputId": "eb808567-ccd7-4158-9966-a6248f082a21"
      },
      "execution_count": 69,
      "outputs": [
        {
          "output_type": "execute_result",
          "data": {
            "text/plain": [
              "array([[0, 1, 2],\n",
              "       [3, 4, 5],\n",
              "       [6, 7, 8]])"
            ]
          },
          "metadata": {},
          "execution_count": 69
        }
      ]
    },
    {
      "cell_type": "markdown",
      "source": [
        "**Iterating Arrays**"
      ],
      "metadata": {
        "id": "UjlWARWi-l1E"
      }
    },
    {
      "cell_type": "code",
      "source": [
        "import numpy as np\n",
        "\n",
        "a = np.array([1, 2, 3, 4, 5])\n",
        "for i in a:\n",
        "    print(i)\n"
      ],
      "metadata": {
        "colab": {
          "base_uri": "https://localhost:8080/"
        },
        "id": "weAk5ODf-9SY",
        "outputId": "da05f542-f360-49cc-dcac-2663c5e6a4ba"
      },
      "execution_count": 70,
      "outputs": [
        {
          "output_type": "stream",
          "name": "stdout",
          "text": [
            "1\n",
            "2\n",
            "3\n",
            "4\n",
            "5\n"
          ]
        }
      ]
    },
    {
      "cell_type": "code",
      "source": [
        "# Iterating 2D Arrays\n",
        "\n",
        "import numpy as np\n",
        "\n",
        "b = np.array([[1, 2, 3], [4, 5, 6]])\n",
        "for i in b:\n",
        "    for j in i:\n",
        "        print(j)\n"
      ],
      "metadata": {
        "colab": {
          "base_uri": "https://localhost:8080/"
        },
        "id": "LUfkScKl_DnF",
        "outputId": "720ded20-74aa-4ca2-b6ed-5ba2913c6479"
      },
      "execution_count": 71,
      "outputs": [
        {
          "output_type": "stream",
          "name": "stdout",
          "text": [
            "1\n",
            "2\n",
            "3\n",
            "4\n",
            "5\n",
            "6\n"
          ]
        }
      ]
    },
    {
      "cell_type": "code",
      "source": [
        "# Iterating 3D Arrays:\n",
        "\n",
        "import numpy as np\n",
        "\n",
        "c = np.array([[[1, 2], [3, 4]], [[5, 6], [7, 8]]])\n",
        "for i in c:\n",
        "    for j in i:\n",
        "        for k in j:\n",
        "            print(k)\n"
      ],
      "metadata": {
        "colab": {
          "base_uri": "https://localhost:8080/"
        },
        "id": "4LdFZ88d_Ndu",
        "outputId": "28efe677-1adf-4ca3-b37c-5e7b0f3ab93d"
      },
      "execution_count": 72,
      "outputs": [
        {
          "output_type": "stream",
          "name": "stdout",
          "text": [
            "1\n",
            "2\n",
            "3\n",
            "4\n",
            "5\n",
            "6\n",
            "7\n",
            "8\n"
          ]
        }
      ]
    },
    {
      "cell_type": "code",
      "source": [
        "# Iterating Arrays Using ndenumerate()\n",
        "#The ndenumerate() function returns both the indices and the values of each element in the array.\n",
        "#Here's an example:\n",
        "import numpy as np\n",
        "\n",
        "a = np.array([1, 2, 3, 4, 5])\n",
        "for i, j in np.ndenumerate(a):\n",
        "    print(i, j)\n"
      ],
      "metadata": {
        "colab": {
          "base_uri": "https://localhost:8080/"
        },
        "id": "4gmlR9XC_Yi0",
        "outputId": "c03d6de8-a3ee-4875-a349-fb6af3c8ca44"
      },
      "execution_count": 73,
      "outputs": [
        {
          "output_type": "stream",
          "name": "stdout",
          "text": [
            "(0,) 1\n",
            "(1,) 2\n",
            "(2,) 3\n",
            "(3,) 4\n",
            "(4,) 5\n"
          ]
        }
      ]
    },
    {
      "cell_type": "markdown",
      "source": [
        "NumPy, a library for numerical computing in Python, provides several functions for searching, sorting and filtering arrays.\n",
        "\n",
        "**numpy.searchsorted** This method is used to perform binary search on a sorted array. It returns the indices of the array where the specified values can be inserted to maintain the sorted order.\n",
        "\n",
        "**searchsorted with \"side\"** parameter set to \"right\": This option allows the search to be performed starting from the right side of the array, rather than the default left side.\n",
        "\n",
        "**Searching for multiple values:** You can use the numpy.isin method to check if multiple values are present in an array.\n",
        "\n",
        "**Sorting arrays:** You can use the numpy.sort method to sort arrays in ascending or descending order.\n",
        "\n",
        "**Sorting 2D arrays:** You can sort a 2D array based on the values in a specific column using the numpy.argsort method.\n",
        "\n",
        "**Filtering arrays:** You can use boolean indexing to filter arrays based on certain conditions. For example, you can extract all elements from an array that are greater than a certain value.\n",
        "\n",
        "**Creating filter arrays:** You can create a filter array with the same shape as the original array, where each element indicates whether the corresponding element in the original array satisfies a certain condition.\n",
        "\n",
        "**Creating filters directly from arrays:** You can use the numpy.where method to create a filter directly from an array, based on a specified condition. The method returns the indices of the elements in the array that satisfy the condition."
      ],
      "metadata": {
        "id": "XclGOIdrBi_C"
      }
    },
    {
      "cell_type": "code",
      "source": [
        "The searchsorted() method in NumPy is a\n",
        "function that can be used to search for the\n",
        "index at which a given value would be inserted into a\n",
        "sorted array to maintain the sorted order."
      ],
      "metadata": {
        "id": "mzAB0mYJEflj"
      },
      "execution_count": null,
      "outputs": []
    },
    {
      "cell_type": "markdown",
      "source": [
        "numpy.searchsorted(a, v, side='left', sorter=None)\n"
      ],
      "metadata": {
        "id": "zJSZeK39EkKk"
      }
    },
    {
      "cell_type": "code",
      "source": [
        "import numpy as np\n",
        "\n",
        "a = np.array([1, 3, 4, 4, 4, 6, 8])\n",
        "\n",
        "index = np.searchsorted(a, 4)\n",
        "\n",
        "print(index)  # Output: 2\n"
      ],
      "metadata": {
        "id": "jFDu9F69Etzs",
        "outputId": "ae641501-a899-4d6b-e125-c073afd28c1d",
        "colab": {
          "base_uri": "https://localhost:8080/"
        }
      },
      "execution_count": 74,
      "outputs": [
        {
          "output_type": "stream",
          "name": "stdout",
          "text": [
            "2\n"
          ]
        }
      ]
    },
    {
      "cell_type": "markdown",
      "source": [
        "In this example, the **searchsorted()** method returns the index of the first occurrence of 4 in the sorted array a, which is 2."
      ],
      "metadata": {
        "id": "9LrcP8nDOTdS"
      }
    },
    {
      "cell_type": "markdown",
      "source": [
        "The **in1d()** method in NumPy is a function that can be used to determine whether each element of a given set of values is present in a given input array. It returns a Boolean array indicating whether each value in the set of values is present in the input array.\n",
        "\n",
        "Here is the syntax for using in1d():\n",
        "\n",
        "***numpy.in1d(ar1, ar2, assume_unique=False, invert=False)***\n"
      ],
      "metadata": {
        "id": "_9r5_YoPO3Nb"
      }
    },
    {
      "cell_type": "markdown",
      "source": [
        "where ar1 is the input array, ar2 is the set of values to be searched for, assume_unique is an optional parameter that specifies whether to assume that the input arrays are unique, and invert is an optional parameter that specifies whether to invert the output. If invert is set to True, the function returns a Boolean array indicating whether each value in the set of values is not present in the input array."
      ],
      "metadata": {
        "id": "HsHrbuK5O9Wt"
      }
    },
    {
      "cell_type": "code",
      "source": [
        "import numpy as np\n",
        "\n",
        "ar1 = np.array([1, 2, 3, 4, 5])\n",
        "ar2 = np.array([2, 4, 6])\n",
        "\n",
        "result = np.in1d(ar1, ar2)\n",
        "\n",
        "print(result)  # Output: [False  True False  True False]\n"
      ],
      "metadata": {
        "colab": {
          "base_uri": "https://localhost:8080/"
        },
        "id": "sompLszWPA3m",
        "outputId": "e77dee5a-1af5-4c1e-c104-749f70d888c1"
      },
      "execution_count": 76,
      "outputs": [
        {
          "output_type": "stream",
          "name": "stdout",
          "text": [
            "[False  True False  True False]\n"
          ]
        }
      ]
    },
    {
      "cell_type": "markdown",
      "source": [
        "**sort()**The sort() method is used to sort an array in-place. It modifies the input array and returns None. The syntax is as follows:"
      ],
      "metadata": {
        "id": "rVvl0bTxQQp1"
      }
    },
    {
      "cell_type": "code",
      "source": [
        "numpy.sort(a, axis=-1, kind='quicksort', order=None)\n"
      ],
      "metadata": {
        "id": "HoiH9YoxQTjI"
      },
      "execution_count": null,
      "outputs": []
    },
    {
      "cell_type": "markdown",
      "source": [
        "where a is the input array, axis is an optional parameter that specifies the axis along which to sort the array, kind is an optional parameter that specifies the sorting algorithm to be used, and order is an optional parameter that specifies the order of sorting for multi-dimensional arrays."
      ],
      "metadata": {
        "id": "kD6KjcVyQfdk"
      }
    },
    {
      "cell_type": "code",
      "source": [
        "import numpy as np\n",
        "\n",
        "a = np.array([3, 1, 4, 1, 5, 9, 2, 6, 5, 3, 5])\n",
        "\n",
        "print(np.sort(a))\n",
        "\n",
        "  # Output: [1 1 2 3 3 4 5 5 5 6 9]\n"
      ],
      "metadata": {
        "colab": {
          "base_uri": "https://localhost:8080/"
        },
        "id": "0RiCd_QgQhdd",
        "outputId": "c199dace-9a88-41a2-a8b1-6c0f90123846"
      },
      "execution_count": 77,
      "outputs": [
        {
          "output_type": "stream",
          "name": "stdout",
          "text": [
            "[1 1 2 3 3 4 5 5 5 6 9]\n"
          ]
        }
      ]
    },
    {
      "cell_type": "markdown",
      "source": [
        "**argsort():** The argsort() method is used to get the indices of the sorted elements in an array.\n",
        "\n",
        " It returns an array of indices that can be used to index the input array to get the sorted array.\n",
        "  \n",
        " The syntax is as follows:"
      ],
      "metadata": {
        "id": "rwn4SYkWQlyk"
      }
    },
    {
      "cell_type": "code",
      "source": [
        "numpy.argsort(a, axis=-1, kind='quicksort', order=None)\n"
      ],
      "metadata": {
        "id": "zGN7CDpUQtU9"
      },
      "execution_count": null,
      "outputs": []
    },
    {
      "cell_type": "markdown",
      "source": [
        "where a is the input array, axis is an optional parameter that specifies the axis along which to sort the array, kind is an optional parameter that specifies the sorting algorithm to be used, and order is an optional parameter that specifies the order of sorting for multi-dimensional arrays.\n",
        "\n",
        "For example:"
      ],
      "metadata": {
        "id": "ClMpuTL8QwkM"
      }
    },
    {
      "cell_type": "code",
      "source": [
        "import numpy as np\n",
        "\n",
        "a = np.array([3, 1, 4, 1, 5, 9, 2, 6, 5, 3, 5])\n",
        "\n",
        "index = np.argsort(a)\n",
        "\n",
        "print(index)  # Output: [1 3 6 7 8 9 2 0 4 5 10]\n"
      ],
      "metadata": {
        "colab": {
          "base_uri": "https://localhost:8080/"
        },
        "id": "QheC-femQzSt",
        "outputId": "43eaa6c4-d908-4525-9364-20a443c7809a"
      },
      "execution_count": 78,
      "outputs": [
        {
          "output_type": "stream",
          "name": "stdout",
          "text": [
            "[ 1  3  6  0  9  2  4  8 10  7  5]\n"
          ]
        }
      ]
    },
    {
      "cell_type": "markdown",
      "source": [
        "**lexsort():** The lexsort() method is used to perform lexicographic sorting on multiple arrays. It returns an array of indices that can be used to index the input arrays to get the sorted arrays. The syntax is as follows:"
      ],
      "metadata": {
        "id": "Nf8zLvTqQ2q-"
      }
    },
    {
      "cell_type": "code",
      "source": [
        "numpy.lexsort(keys, axis=-1)\n"
      ],
      "metadata": {
        "id": "6R7LSrgFQ5T7"
      },
      "execution_count": null,
      "outputs": []
    },
    {
      "cell_type": "markdown",
      "source": [
        "where keys is a tuple of arrays to be sorted and axis is an optional parameter that specifies the axis along which to sort the arrays."
      ],
      "metadata": {
        "id": "m836z0SzQ-l2"
      }
    },
    {
      "cell_type": "code",
      "source": [
        "import numpy as np\n",
        "\n",
        "first_name = np.array(['John', 'Jane', 'Jim', 'Jerry', 'Joan'])\n",
        "last_name = np.array(['Doe', 'Doe', 'Smith', 'Jones', 'Johnson'])\n",
        "\n",
        "index = np.lexsort((last_name, first_name))\n",
        "\n",
        "print(first_name[index])  # Output: ['Jim' 'Joan' 'Jane' 'Jerry' 'John']\n",
        "print(last_name[index])   # Output: ['Smith' 'Johnson' 'Doe' 'Jones' 'Doe']\n"
      ],
      "metadata": {
        "colab": {
          "base_uri": "https://localhost:8080/"
        },
        "id": "__BKauUIQ8tS",
        "outputId": "52043600-2767-442f-fdee-923b6e6c4941"
      },
      "execution_count": null,
      "outputs": [
        {
          "output_type": "stream",
          "name": "stdout",
          "text": [
            "['Jane' 'Jerry' 'Jim' 'Joan' 'John']\n",
            "['Doe' 'Jones' 'Smith' 'Johnson' 'Doe']\n"
          ]
        }
      ]
    },
    {
      "cell_type": "markdown",
      "source": [
        "**filters directly from arrays**"
      ],
      "metadata": {
        "id": "e5ToEEkzRZF6"
      }
    },
    {
      "cell_type": "code",
      "source": [
        "import numpy as np\n",
        "\n",
        "a = np.array([3, 1, 4, 1, 5, 9, 2, 6, 5, 3, 5])\n",
        "b = np.array([2, 3, 4, 5, 6, 7, 8, 9, 10, 11, 12])\n",
        "\n",
        "filter = a > b\n",
        "\n",
        "print(a[filter])  # Output: [3 5 9 6]\n"
      ],
      "metadata": {
        "colab": {
          "base_uri": "https://localhost:8080/"
        },
        "id": "kIMENaIlRcK6",
        "outputId": "78e304b0-1a59-43bb-bb01-52263dc034a8"
      },
      "execution_count": null,
      "outputs": [
        {
          "output_type": "stream",
          "name": "stdout",
          "text": [
            "[3 9]\n"
          ]
        }
      ]
    },
    {
      "cell_type": "code",
      "source": [
        "import numpy as np\n",
        "\n",
        "a = np.array([3, 1, 4, 1, 5, 9, 2, 6, 5, 3, 5])\n",
        "\n",
        "filter = (a > 2) & (a < 9)\n",
        "\n",
        "print(a[filter])  # Output: [3 4 5 5 6]\n"
      ],
      "metadata": {
        "colab": {
          "base_uri": "https://localhost:8080/"
        },
        "id": "o2iUSBSGRfdC",
        "outputId": "19fe47bd-79d7-4849-8e37-78d3adbccf54"
      },
      "execution_count": null,
      "outputs": [
        {
          "output_type": "stream",
          "name": "stdout",
          "text": [
            "[3 4 5 6 5 3 5]\n"
          ]
        }
      ]
    },
    {
      "cell_type": "markdown",
      "source": [
        "**\"ufunc\"** stands for Universal Functions. A ufunc is a function that performs element-wise operations on arrays, which means it operates on individual elements of an array rather than the entire array."
      ],
      "metadata": {
        "id": "gCGlilz7uVE3"
      }
    },
    {
      "cell_type": "markdown",
      "source": [
        "**NumPy ufuncs are vectorized operations**, which means they can be applied to arrays without using a for loop. This allows for efficient processing of large arrays and is a key feature of NumPy.\n",
        "\n",
        "Some of the most commonly used NumPy ufuncs include:\n",
        "\n",
        "\n",
        "*   np.add: element-wise addition\n",
        "*   np.add: element-wise addition\n",
        "\n",
        "*   np.multiply: element-wise multiplication\n",
        "*   np.divide: element-wise division\n",
        "\n",
        "*   np.power: element-wise power\n",
        "*   np.exp: element-wise exponential\n",
        "\n",
        "*   np.log: element-wise natural logarithm\n",
        "\n",
        "\n"
      ],
      "metadata": {
        "id": "Es9dTFqku8hp"
      }
    },
    {
      "cell_type": "code",
      "source": [
        "import numpy as np\n",
        "\n",
        "a = np.array([1, 2, 3, 4])\n",
        "b = np.array([10, 20, 30, 40])\n",
        "c = np.add(a, b)\n",
        "print(c)\n"
      ],
      "metadata": {
        "colab": {
          "base_uri": "https://localhost:8080/"
        },
        "id": "xc_USdrEuboY",
        "outputId": "8ff1f67c-b901-4972-85db-9d02fa83e611"
      },
      "execution_count": null,
      "outputs": [
        {
          "output_type": "stream",
          "name": "stdout",
          "text": [
            "[11 22 33 44]\n"
          ]
        }
      ]
    },
    {
      "cell_type": "code",
      "source": [
        "import numpy as np\n",
        "\n",
        "a = np.array([1, 2, 3, 4, 5])\n",
        "b = np.square(a)\n",
        "print(b)\n"
      ],
      "metadata": {
        "colab": {
          "base_uri": "https://localhost:8080/"
        },
        "id": "juoafyzvurvz",
        "outputId": "110cd8f3-3cbf-49dd-a3b4-291b03884bca"
      },
      "execution_count": null,
      "outputs": [
        {
          "output_type": "stream",
          "name": "stdout",
          "text": [
            "[ 1  4  9 16 25]\n"
          ]
        }
      ]
    },
    {
      "cell_type": "markdown",
      "source": [
        "**To create your own ufunc in NumPy**, you can use the *numpy.vectorize* function.\n",
        "\n",
        "`numpy.vectorize` is a decorator that takes a scalar function and returns a new function that applies the scalar function to arrays element-wise."
      ],
      "metadata": {
        "id": "Aidlt_pyv7pA"
      }
    },
    {
      "cell_type": "code",
      "source": [
        "import numpy as np\n",
        "\n",
        "def my_func(x):\n",
        "    return x**2 + 1\n",
        "\n",
        "vec_my_func = np.vectorize(my_func)\n",
        "\n",
        "a = np.array([1, 2, 3, 4])\n",
        "b = vec_my_func(a)\n",
        "print(b)\n"
      ],
      "metadata": {
        "colab": {
          "base_uri": "https://localhost:8080/"
        },
        "id": "Z-UsABZlwFUS",
        "outputId": "94af7422-f8c2-41df-876c-c22eccadb7cc"
      },
      "execution_count": null,
      "outputs": [
        {
          "output_type": "stream",
          "name": "stdout",
          "text": [
            "[ 2  5 10 17]\n"
          ]
        }
      ]
    },
    {
      "cell_type": "markdown",
      "source": [
        "create your own NumPy ufunc, you need to write a function in Python  and then use NumPy's numpy.frompyfunc function to convert it into a ufunc."
      ],
      "metadata": {
        "id": "mV92Z22kw1m5"
      }
    },
    {
      "cell_type": "code",
      "source": [
        "import numpy as np\n",
        "\n",
        "def my_square(x):\n",
        "    return x**2\n",
        "\n",
        "my_ufunc = np.frompyfunc(my_square, 1, 1)\n",
        "\n",
        "a = np.array([1, 2, 3, 4])\n",
        "b = my_ufunc(a)\n",
        "print(b)\n"
      ],
      "metadata": {
        "colab": {
          "base_uri": "https://localhost:8080/"
        },
        "id": "T0Pqz55Bw1I5",
        "outputId": "09793130-b081-4253-826c-23c5ebe54d7a"
      },
      "execution_count": null,
      "outputs": [
        {
          "output_type": "stream",
          "name": "stdout",
          "text": [
            "[1 4 9 16]\n"
          ]
        }
      ]
    },
    {
      "cell_type": "code",
      "source": [
        "import numpy as np\n",
        "\n",
        "def hypotenuse(x, y):\n",
        "    return np.sqrt(x**2 + y**2)\n",
        "\n",
        "hypotenuse_ufunc = np.frompyfunc(hypotenuse, 2, 1)\n",
        "a = np.array([1, 2, 3, 4])\n",
        "b = np.array([1,2,3,4])\n",
        "c = hypotenuse_ufunc(a,b)\n",
        "print(c)"
      ],
      "metadata": {
        "colab": {
          "base_uri": "https://localhost:8080/"
        },
        "id": "TLHXie2AxYhQ",
        "outputId": "f4228d5e-abc7-4a76-a8ce-3d7dd8f55789"
      },
      "execution_count": null,
      "outputs": [
        {
          "output_type": "stream",
          "name": "stdout",
          "text": [
            "[1.4142135623730951 2.8284271247461903 4.242640687119285 5.656854249492381]\n"
          ]
        }
      ]
    },
    {
      "cell_type": "markdown",
      "source": [
        "To check if a function is a NumPy ufunc, you can use the numpy.ufunc class."
      ],
      "metadata": {
        "id": "R9FIcEiVxHBj"
      }
    },
    {
      "cell_type": "code",
      "source": [
        "import numpy as np\n",
        "\n",
        "a = np.add\n",
        "\n",
        "if isinstance(a, np.ufunc):\n",
        "    print(\"a is a NumPy ufunc\")\n",
        "else:\n",
        "    print(\"a is not a NumPy ufunc\")\n"
      ],
      "metadata": {
        "colab": {
          "base_uri": "https://localhost:8080/"
        },
        "id": "PDmDpUl4xJbN",
        "outputId": "865c0fd3-551e-47e6-c76a-78b6045b1bf6"
      },
      "execution_count": null,
      "outputs": [
        {
          "output_type": "stream",
          "name": "stdout",
          "text": [
            "a is a NumPy ufunc\n"
          ]
        }
      ]
    },
    {
      "cell_type": "markdown",
      "source": [
        "**The least common multiple (LCM)** of two numbers is the smallest number that is a multiple of both of the numbers. To find the LCM of two numbers, you can use the math.gcd function from the math module to calculate the greatest common divisor (GCD) of the two numbers, and then divide the product of the numbers by the GCD.\n",
        "\n",
        "Here's an example of finding the LCM of two numbers:"
      ],
      "metadata": {
        "id": "YiMzFOzayx9P"
      }
    },
    {
      "cell_type": "code",
      "source": [
        "import math\n",
        "\n",
        "def lcm(x, y):\n",
        "    return x * y // math.gcd(x, y)\n",
        "\n",
        "x = 15\n",
        "y = 20\n",
        "\n",
        "print(lcm(x, y))\n"
      ],
      "metadata": {
        "colab": {
          "base_uri": "https://localhost:8080/"
        },
        "id": "90rVyqMZy4Vg",
        "outputId": "eb07cb80-37ba-46a1-ffbb-48389e24d62f"
      },
      "execution_count": null,
      "outputs": [
        {
          "output_type": "stream",
          "name": "stdout",
          "text": [
            "60\n"
          ]
        }
      ]
    },
    {
      "cell_type": "code",
      "source": [
        "import numpy as np\n",
        "import math\n",
        "\n",
        "def lcm(a, b):\n",
        "    return a * b // math.gcd(a, b)\n",
        "\n",
        "lcm_ufunc = np.frompyfunc(lcm, 2, 1)\n",
        "\n",
        "a = np.array([3, 4, 5])\n",
        "b = np.array([6, 8, 10])\n",
        "c = lcm_ufunc(a, b).astype(np.int64)\n",
        "print(c)\n"
      ],
      "metadata": {
        "colab": {
          "base_uri": "https://localhost:8080/"
        },
        "id": "Nz5glI410B0X",
        "outputId": "625d11ee-6b78-4e0c-94ec-35791cc2bfc5"
      },
      "execution_count": null,
      "outputs": [
        {
          "output_type": "stream",
          "name": "stdout",
          "text": [
            "[ 6  8 10]\n"
          ]
        }
      ]
    },
    {
      "cell_type": "markdown",
      "source": [
        "To find the LCM of elements in an array, you can use the NumPy ufunc to apply the lcm function to all pairs of elements in the array. For example:"
      ],
      "metadata": {
        "id": "ynLjUQOsy8-l"
      }
    },
    {
      "cell_type": "code",
      "source": [
        "import numpy as np\n",
        "import math\n",
        "\n",
        "def lcm(x, y):\n",
        "    return x * y // math.gcd(x, y)\n",
        "\n",
        "a = np.array([15, 20, 25, 30])\n",
        "lcm_ufunc = np.frompyfunc(lcm, 2, 1)\n",
        "\n",
        "b = lcm_ufunc.reduce(a)\n",
        "print(b)\n"
      ],
      "metadata": {
        "colab": {
          "base_uri": "https://localhost:8080/"
        },
        "id": "xyBWM-TRy_Eg",
        "outputId": "ed94494e-b87d-4cf4-ed0a-50c9a6ab611c"
      },
      "execution_count": null,
      "outputs": [
        {
          "output_type": "stream",
          "name": "stdout",
          "text": [
            "300\n"
          ]
        }
      ]
    },
    {
      "cell_type": "markdown",
      "source": [
        "lcm_ufunc is created from the lcm function, and the reduce method is used to apply the lcm_ufunc to all pairs of elements in the array a. The resulting LCM is stored in the b array."
      ],
      "metadata": {
        "id": "tE48QY9Jzkdi"
      }
    },
    {
      "cell_type": "markdown",
      "source": [
        "**The Greatest Common Divisor (GCD)** of two or more numbers is the largest positive integer that divides all the numbers without a remainder.\n",
        "\n",
        "In NumPy, you can calculate the GCD of arrays using a custom ufunc."
      ],
      "metadata": {
        "id": "yYKT0M5z0fBd"
      }
    },
    {
      "cell_type": "code",
      "source": [
        "import numpy as np\n",
        "import math\n",
        "\n",
        "def gcd(a, b):\n",
        "    while b:\n",
        "        a, b = b, a % b\n",
        "    return a\n",
        "\n",
        "c=gcd(4,8)\n",
        "print(\"GCD IS:  \", c)"
      ],
      "metadata": {
        "colab": {
          "base_uri": "https://localhost:8080/"
        },
        "id": "Mm3saoiH4PLh",
        "outputId": "8a1b4224-4e7a-4ba6-8bd7-8b50b95c0228"
      },
      "execution_count": null,
      "outputs": [
        {
          "output_type": "stream",
          "name": "stdout",
          "text": [
            "GCD IS:   4\n"
          ]
        }
      ]
    },
    {
      "cell_type": "code",
      "source": [
        "import numpy as np\n",
        "import math\n",
        "\n",
        "def gcd(a, b):\n",
        "    while b:\n",
        "        a, b = b, a % b\n",
        "    return a\n",
        "\n",
        "gcd_ufunc = np.frompyfunc(gcd, 2, 1)\n",
        "\n",
        "a = np.array([3, 4, 5])\n",
        "b = np.array([6, 8, 10])\n",
        "c = gcd_ufunc(a, b).astype(np.int64)\n",
        "print(c)\n"
      ],
      "metadata": {
        "colab": {
          "base_uri": "https://localhost:8080/"
        },
        "id": "Hakqhd590pDQ",
        "outputId": "32cd0164-d435-4ca7-c52e-272ecce4b570"
      },
      "execution_count": null,
      "outputs": [
        {
          "output_type": "stream",
          "name": "stdout",
          "text": [
            "[3 4 5]\n"
          ]
        }
      ]
    },
    {
      "cell_type": "markdown",
      "source": [
        "A **set** is an unordered collection of unique elements. In mathematics, sets are used to represent a collection of distinct objects.\n",
        "\n",
        "\n",
        "**In programming, sets** are used to store and manipulate collections of values."
      ],
      "metadata": {
        "id": "OtTEVT-s5VAb"
      }
    },
    {
      "cell_type": "code",
      "source": [
        "import numpy as np\n",
        "\n",
        "a = np.array([1, 2, 3, 4, 5, 6, 7, 8, 9, 1, 2, 3])\n",
        "b = np.array([4, 5, 6, 7, 8, 9, 10, 11, 12])\n",
        "\n",
        "set_a = np.unique(a)\n",
        "set_b = np.unique(b)\n",
        "\n",
        "print(set_a)\n",
        "print(set_b)\n"
      ],
      "metadata": {
        "colab": {
          "base_uri": "https://localhost:8080/"
        },
        "id": "sI4hZvZ75fnL",
        "outputId": "bb5b9c79-1a71-435f-d71c-bed1a9616cf6"
      },
      "execution_count": null,
      "outputs": [
        {
          "output_type": "stream",
          "name": "stdout",
          "text": [
            "[1 2 3 4 5 6 7 8 9]\n",
            "[ 4  5  6  7  8  9 10 11 12]\n"
          ]
        }
      ]
    },
    {
      "cell_type": "markdown",
      "source": [
        "**Union**"
      ],
      "metadata": {
        "id": "AY2nvBjq5lJL"
      }
    },
    {
      "cell_type": "code",
      "source": [
        "import numpy as np\n",
        "\n",
        "a = np.array([1, 2, 3, 4, 5, 6, 7, 8, 9, 1, 2, 3])\n",
        "b = np.array([4, 5, 6, 7, 8, 9, 10, 11, 12])\n",
        "\n",
        "set_a = np.unique(a)\n",
        "set_b = np.unique(b)\n",
        "\n",
        "union = np.union1d(set_a, set_b)\n",
        "print(union)\n"
      ],
      "metadata": {
        "colab": {
          "base_uri": "https://localhost:8080/"
        },
        "id": "neUsmTXy5UmU",
        "outputId": "a6c1a5f7-789c-4922-e73c-b6d080bc7e5f"
      },
      "execution_count": null,
      "outputs": [
        {
          "output_type": "stream",
          "name": "stdout",
          "text": [
            "[ 1  2  3  4  5  6  7  8  9 10 11 12]\n"
          ]
        }
      ]
    },
    {
      "cell_type": "markdown",
      "source": [
        "**Intersection**"
      ],
      "metadata": {
        "id": "ycylrNOq5tzD"
      }
    },
    {
      "cell_type": "code",
      "source": [
        "import numpy as np\n",
        "\n",
        "a = np.array([1, 2, 3, 4, 5, 6, 7, 8, 9, 1, 2, 3])\n",
        "b = np.array([4, 5, 6, 7, 8, 9, 10, 11, 12])\n",
        "\n",
        "set_a = np.unique(a)\n",
        "set_b = np.unique(b)\n",
        "\n",
        "intersection = np.intersect1d(set_a, set_b)\n",
        "print(intersection)\n"
      ],
      "metadata": {
        "id": "72aqDeK05yXu"
      },
      "execution_count": null,
      "outputs": []
    },
    {
      "cell_type": "markdown",
      "source": [
        "**Difference**"
      ],
      "metadata": {
        "id": "UiYdfh5O7RaD"
      }
    },
    {
      "cell_type": "code",
      "source": [
        "import numpy as np\n",
        "\n",
        "a = np.array([3, 4, 4, 5, 5, 5])\n",
        "b = np.array([5, 6, 7, 8, 8, 9])\n",
        "set_a = np.unique(a)\n",
        "set_b = np.unique(b)\n",
        "difference = np.setdiff1d(set_a, set_b)\n",
        "print(difference)\n"
      ],
      "metadata": {
        "colab": {
          "base_uri": "https://localhost:8080/"
        },
        "id": "JdmWBFhD7TeK",
        "outputId": "6e6b7d44-e978-4721-c479-ec8400d2a922"
      },
      "execution_count": null,
      "outputs": [
        {
          "output_type": "stream",
          "name": "stdout",
          "text": [
            "[3 4]\n"
          ]
        }
      ]
    },
    {
      "cell_type": "markdown",
      "source": [
        "The **symmetric difference** of two sets is the set of all elements that belong to exactly one of the sets."
      ],
      "metadata": {
        "id": "G8j1zl_97tBW"
      }
    },
    {
      "cell_type": "code",
      "source": [
        "import numpy as np\n",
        "\n",
        "a = np.array([3, 4, 4, 5, 5, 5])\n",
        "b = np.array([5, 6, 7, 8, 8, 9])\n",
        "set_a = np.unique(a)\n",
        "set_b = np.unique(b)\n",
        "symmetric_difference = np.setxor1d(set_a, set_b)\n",
        "print(symmetric_difference)\n"
      ],
      "metadata": {
        "colab": {
          "base_uri": "https://localhost:8080/"
        },
        "id": "VtfcDiHe7j0Z",
        "outputId": "805bbb73-5e1a-4b2e-b04f-7453d989457d"
      },
      "execution_count": null,
      "outputs": [
        {
          "output_type": "stream",
          "name": "stdout",
          "text": [
            "[3 4 6 7 8 9]\n"
          ]
        }
      ]
    }
  ]
}
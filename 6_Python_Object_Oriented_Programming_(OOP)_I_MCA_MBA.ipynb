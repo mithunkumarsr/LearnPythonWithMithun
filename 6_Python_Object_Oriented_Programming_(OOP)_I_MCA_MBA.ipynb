{
  "nbformat": 4,
  "nbformat_minor": 0,
  "metadata": {
    "colab": {
      "provenance": [],
      "include_colab_link": true
    },
    "kernelspec": {
      "name": "python3",
      "display_name": "Python 3"
    },
    "language_info": {
      "name": "python"
    }
  },
  "cells": [
    {
      "cell_type": "markdown",
      "metadata": {
        "id": "view-in-github",
        "colab_type": "text"
      },
      "source": [
        "<a href=\"https://colab.research.google.com/github/mithunkumarsr/LearnPythonWithMithun/blob/master/Python_Object_Oriented_Programming_(OOP)_I_MCA_MBA.ipynb\" target=\"_parent\"><img src=\"https://colab.research.google.com/assets/colab-badge.svg\" alt=\"Open In Colab\"/></a>"
      ]
    },
    {
      "cell_type": "markdown",
      "source": [
        "A **programming paradigm** defines the methodology of designing and implementing programs using the key features and other building blocks of a programming language and gives you an idea of how problems are generally analysed and solved in a particular programming language."
      ],
      "metadata": {
        "id": "W9KPxa8RzOZz"
      }
    },
    {
      "cell_type": "markdown",
      "source": [
        "\n",
        "\n",
        "1.   Procedural Programming\n",
        "2.   Object Based Programming\n",
        "1.  Object Oriented Programming\n",
        "\n",
        "\n",
        "\n",
        "\n"
      ],
      "metadata": {
        "id": "D9I8g7gIzSpV"
      }
    },
    {
      "cell_type": "markdown",
      "source": [
        "**Procedural programming** (also known as imperative programming) is a programming paradigm that uses a linear or top-down approach. It is based on the concept of the procedure call.\n",
        "\n",
        "In procedural programming, a program consists of **data** and **procedures** that operate on the data. The two are treated as separate entities.\n",
        "\n",
        " Procedures, also known as routines, subroutines, or functions, simply contain a series of computational steps to be carried out.` C programming` language uses procedural programming style."
      ],
      "metadata": {
        "id": "aFX_9etPzinF"
      }
    },
    {
      "cell_type": "markdown",
      "source": [
        "Quiz Question: https://www.ferendum.com/en/PID1720222PSD559307220"
      ],
      "metadata": {
        "id": "45yAXom52PTU"
      }
    },
    {
      "cell_type": "markdown",
      "source": [
        "**Object based programming** is a programming paradigm that implements some features of Object-oriented programming but not all.\n",
        "\n",
        "\n",
        "In Object based programming, data and its associated meaningful functions are enclosed in one single entity called Class.\n",
        "\n",
        "Classes enforce information hiding and abstraction thereby separating the implementation details.\n",
        "\n",
        "In Object based programming, whenever there is any change in the definition of type, user interface remains unaffected generally.\n",
        "\n",
        "**Object based programming can be treated as a subset of Object-oriented programming as it implements some of the features implemented by Object-oriented programming like information hiding, abstraction, classes, function overloading, etc.**\n",
        "\n",
        "`Object based programming paradigm does not `implement **Inheritance** and **Polymorphism**`\n",
        "\n",
        "\n",
        "\n",
        "\n",
        "\n",
        "Java Script, Visual Basic are Object based programming languages.\n"
      ],
      "metadata": {
        "id": "0fqPYMHO3SgO"
      }
    },
    {
      "cell_type": "markdown",
      "source": [
        "**Object-oriented Programming** is a programming paradigm based on the concept of **objects**, which may contain data, in the form of fields, often known as attributes and code, in the form of procedures, often known as methods.\n",
        "\n",
        "\n",
        "Object-oriented Programming languages are diverse, but the most popular ones are class-based, meaning that objects are instances of classes, which also determine their types."
      ],
      "metadata": {
        "id": "rOUEeEfk2rZT"
      }
    },
    {
      "cell_type": "markdown",
      "source": [
        "# OOP CONCEPTS"
      ],
      "metadata": {
        "id": "nWyrEAXe4tzv"
      }
    },
    {
      "cell_type": "markdown",
      "source": [
        "**Abstraction** is used as a technique to identify all the essential characteristics and behaviour of an object and to omit those aspects that are unimportant.\n",
        "\n",
        "**Information Hiding**  is hiding all the unnecessary information (like implementation details etc.) from outside entities.\n",
        "\n",
        "The outside world is given only the essential and necessary information through public members, rest of the things remain hidden which is nothing but abstraction.\n",
        "\n",
        "A class groups its members into three sections as *private, protected and public*.\n",
        "\n",
        "The private and protected members remain hidden from outside world i.e., a class enforces data hiding.\n",
        "\n",
        "\n",
        "\n",
        "**Encapsulation** is one of the fundamental concepts in Object-oriented programming.\n",
        "\n",
        "It describes the idea of bundling data and methods that work on the data within one unit restricting access to some of the object’s components (variables and methods)\n",
        "\n",
        "\n",
        "---\n",
        "\n",
        "\n",
        "A class is an example of encapsulation as it binds together data and its associated functions under one unit.\n",
        "\n",
        "---\n",
        "\n",
        "\n",
        "\n",
        "\n",
        "\n",
        "**Encapsulation** = Abstraction + Information Hiding\n",
        "\n"
      ],
      "metadata": {
        "id": "iFoohjSm4qSP"
      }
    },
    {
      "cell_type": "markdown",
      "source": [
        "\n",
        "\n",
        "\n",
        "\n",
        "Encapsulation - Ability to model abstract real world objects (characteristics(attributes) and behavior (methods)) and hide unnecessary information.\n"
      ],
      "metadata": {
        "id": "OLQ89HHlys4G"
      }
    },
    {
      "cell_type": "markdown",
      "source": [
        "**Modularity**  The act of dividing a program into individual components is called modularity. The justification for partitioning a program is that:\n",
        "\n",
        "\n",
        "It reduces its complexity to some degree.\n",
        "\n",
        "It creates a number of well-defined, documented boundaries within the program.\n",
        "\n",
        "The modularity in languages like C++ and Java is implemented by writing code separately in files (called classes) and organizing them in separate directories (called namespaces or packages).\n",
        "\n",
        "\n",
        "**Inheritance:**  Inheritance is the process by which an object of one class acquires the properties of objects of another class.\n",
        "\n",
        "\n",
        "There are several reasons why inheritance was introduced into OO(Object Oriented) languages.\n",
        "\n",
        "\n",
        "The main reason is reusability i.e., one can derive a new class from an existing class and add new features to it.\n",
        "\n",
        "It ensures the closeness with real world models.\n",
        "Another reason is transitive nature. If a class A inherits properties of another class B, then all subclasses of A will automatically inherit the properties of B.\n",
        "\n",
        "**Polymorphism:**\n",
        "\n",
        "Polymorphism can be defined as the ability of a single entity to behave differently depending on the context. It has the ability to take more than one form. i.e., an operation may exhibit different behaviours in different instances."
      ],
      "metadata": {
        "id": "W9IWTjFjsjQ8"
      }
    },
    {
      "cell_type": "markdown",
      "source": [
        "**Class:**\n",
        "In Object-oriented programming, we use classes to represent real-world things and scenarios, and we create objects based on these classes.\n",
        "\n",
        "Definition: **A class** is a blueprint or design that defines the variables and the methods common to all objects of a certain kind.\n",
        "\n",
        "The data stored in its variables are known as **attributes / fields.**\n",
        "The code that can access this data to give the necessary output are called **methods / functions .**"
      ],
      "metadata": {
        "id": "8WSPi21d23JV"
      }
    },
    {
      "cell_type": "markdown",
      "source": [
        "An **object** is a specimen of a class. An instance is a specific object created from a particular class.\n",
        "\n",
        "Creating an object from a class is called **instantiation.**"
      ],
      "metadata": {
        "id": "_8qyd96p2_TN"
      }
    },
    {
      "cell_type": "markdown",
      "source": [
        "**class**\n",
        "A class can be defined using the class keyword. By convention, capitalised names refer to classes in Python."
      ],
      "metadata": {
        "id": "T0plrCPe5vaa"
      }
    },
    {
      "cell_type": "markdown",
      "source": [
        "**Syntax:**\n",
        "\n",
        "`class Class_Name: `\n",
        "\t`variable1`\n",
        "\n",
        "\t`variable2`\n",
        "\n",
        "\t...\n",
        "`variableN`\n",
        "\n",
        "\tdef __init__(self,arg1,...,argn):\n",
        "\n",
        "\tdef Method1(self,arg1,...,argn):\n",
        "\n",
        "\tdef Method2(self):\n",
        "\t...\n",
        "\tdef MethodN(self,arg1,...,argn):\n",
        "\n",
        "\n",
        "\n",
        "\n",
        "\n"
      ],
      "metadata": {
        "id": "O_9hgj0r5z5y"
      }
    },
    {
      "cell_type": "markdown",
      "source": [
        "A class consists of 4 key members:\n",
        "\n",
        "1.   **Constructor:** The constructor must have a special name __init__() and a special parameter called self. In Python, the constructor is invoked automatically whenever a new object of a class is instantiated.\n",
        "2.   **Class variable** / Class attribute: A class variable contains information that is shared by all objects of the class.\n",
        "\n",
        "1.   **Instance variable / Instance attribute:** An attribute that is created per instance/object.\n",
        "2.   **Method(s):** A function that can access any of these variables.\n",
        "\n",
        "\n",
        "\n",
        "\n",
        "\n",
        "\n",
        "\n",
        "\n",
        "\n",
        "\n"
      ],
      "metadata": {
        "id": "AJCe7HvB5-sb"
      }
    },
    {
      "cell_type": "code",
      "source": [
        "# Code Example\n",
        "\n",
        "class Car:\n",
        "\n",
        "\tdef __init__(self, name, colour):\n",
        "\n",
        "\t\tself.name = name\n",
        "\t\tself.colour = colour\n",
        "\tdef get_Speed(self):\n",
        "\t\t\"\"\"Setting the speed of the car.\"\"\"\n",
        "\t\tprint(\"Top speed of \" + self.name + \" is 150 km/hr\")\n",
        "\n",
        "# Creating an instance/object called Honda_City\n",
        "Honda_City = Car(\"Honda City\",\"Red\")\n",
        "# Calling the method using the name of the instance\n",
        "Honda_City.get_Speed()"
      ],
      "metadata": {
        "colab": {
          "base_uri": "https://localhost:8080/"
        },
        "id": "5rGDPPAz3HMo",
        "outputId": "9079cf98-19a1-4e8f-d260-a9e7e2a5f3a0"
      },
      "execution_count": 1,
      "outputs": [
        {
          "output_type": "stream",
          "name": "stdout",
          "text": [
            "Top speed of Honda City is 150 km/hr\n"
          ]
        }
      ]
    },
    {
      "cell_type": "code",
      "source": [
        "class Animal:\n",
        "    pass  # Define your class here\n",
        "\n",
        "# Create an instance of Animal\n",
        "animal = Animal()\n",
        "\n",
        "# Print the type of the instance\n",
        "print(type(_______))  # Fill in the blank\n"
      ],
      "metadata": {
        "colab": {
          "base_uri": "https://localhost:8080/",
          "height": 176
        },
        "id": "4NM22SRv6_0b",
        "outputId": "6acd662f-b7eb-44a9-9bab-8fd3f89cb2c8"
      },
      "execution_count": 21,
      "outputs": [
        {
          "output_type": "error",
          "ename": "NameError",
          "evalue": "name '_______' is not defined",
          "traceback": [
            "\u001b[0;31m---------------------------------------------------------------------------\u001b[0m",
            "\u001b[0;31mNameError\u001b[0m                                 Traceback (most recent call last)",
            "\u001b[0;32m<ipython-input-21-1c508486253c>\u001b[0m in \u001b[0;36m<cell line: 8>\u001b[0;34m()\u001b[0m\n\u001b[1;32m      6\u001b[0m \u001b[0;34m\u001b[0m\u001b[0m\n\u001b[1;32m      7\u001b[0m \u001b[0;31m# Print the type of the instance\u001b[0m\u001b[0;34m\u001b[0m\u001b[0;34m\u001b[0m\u001b[0m\n\u001b[0;32m----> 8\u001b[0;31m \u001b[0mprint\u001b[0m\u001b[0;34m(\u001b[0m\u001b[0mtype\u001b[0m\u001b[0;34m(\u001b[0m\u001b[0m_______\u001b[0m\u001b[0;34m)\u001b[0m\u001b[0;34m)\u001b[0m  \u001b[0;31m# Fill in the blank\u001b[0m\u001b[0;34m\u001b[0m\u001b[0;34m\u001b[0m\u001b[0m\n\u001b[0m",
            "\u001b[0;31mNameError\u001b[0m: name '_______' is not defined"
          ]
        }
      ]
    },
    {
      "cell_type": "code",
      "source": [
        "class Vehicle:\n",
        "    pass  # Define Vehicle class with an attribute 'category'\n",
        "\n",
        "# Create an instance of Vehicle\n",
        "v = Vehicle()\n",
        "\n",
        "# Assign a category value\n",
        "v._________ = \"Car\"  # Fill in the attribute name\n",
        "\n",
        "print(v._________)  # Print the category\n"
      ],
      "metadata": {
        "id": "4dI8-aRQRjV5"
      },
      "execution_count": null,
      "outputs": []
    },
    {
      "cell_type": "code",
      "source": [
        "class Employee:\n",
        "\n",
        "    def display (self, ID, Name):\n",
        "        self.ID=ID\n",
        "        self.Name=Name\n",
        "        print(\"ID: %d \\nName: %s\"%(self.ID,self.Name))\n",
        "\n",
        "\n",
        "# Creating a emp instance of Employee class\n",
        "emp = Employee()\n",
        "emp1=Employee()\n",
        "emp.display(1, \"Mithun\")\n",
        "emp1.display(2, \"Kumar\")"
      ],
      "metadata": {
        "colab": {
          "base_uri": "https://localhost:8080/"
        },
        "id": "mDX9ko026U1J",
        "outputId": "dd1c367c-39fa-4b0f-fef4-83dcc491ede4"
      },
      "execution_count": 22,
      "outputs": [
        {
          "output_type": "stream",
          "name": "stdout",
          "text": [
            "ID: 1 \n",
            "Name: Mithun\n",
            "ID: 2 \n",
            "Name: Kumar\n"
          ]
        }
      ]
    },
    {
      "cell_type": "code",
      "source": [
        "class House:\n",
        "    pass  # Define the House class here\n",
        "\n",
        "# Create two instances\n",
        "house1 = House()\n",
        "house2 = House()\n",
        "\n",
        "# Assign different colors\n",
        "house1._________ = \"Red\"\n",
        "house2._________ = \"Blue\"\n",
        "\n",
        "print(house1._________, house2._________)  # Print colors\n"
      ],
      "metadata": {
        "colab": {
          "base_uri": "https://localhost:8080/"
        },
        "id": "Mk7M2qSGR6OJ",
        "outputId": "6e9b50f1-6785-4905-85fa-5376ab360dd2"
      },
      "execution_count": 24,
      "outputs": [
        {
          "output_type": "stream",
          "name": "stdout",
          "text": [
            "Red Blue\n"
          ]
        }
      ]
    },
    {
      "cell_type": "code",
      "source": [],
      "metadata": {
        "id": "pIdv6SyZno-J"
      },
      "execution_count": null,
      "outputs": []
    },
    {
      "cell_type": "markdown",
      "source": [
        "Quiz : Which concept hides data?"
      ],
      "metadata": {
        "id": "M4R4RNUb5U-S"
      }
    },
    {
      "cell_type": "markdown",
      "source": [
        "\n",
        "\n",
        "1.   Information Hiding.\n",
        "\n",
        "1.   Encapsulation.\n",
        "2.   Inheritance.\n",
        "2.   Polymorphism.\n",
        "\n"
      ],
      "metadata": {
        "id": "i0-56GD_5bf7"
      }
    },
    {
      "cell_type": "markdown",
      "source": [
        "Quiz : Select the correct statements given below.\n",
        "\n",
        "\n",
        "1.   Polymorphism can be defined as ability where an entity can behave differently depending on the context.\n",
        "2.   The purpose of inheritance is to avoid redundancy.\n",
        "1.   Modularity reduces the complexity of the program.\n",
        "\n",
        "\n",
        "\n",
        "\n"
      ],
      "metadata": {
        "id": "bO7KgXyNtK4k"
      }
    },
    {
      "cell_type": "code",
      "source": [
        "class Employee:\n",
        "    id = 10\n",
        "    #id\n",
        "    name = \"John\"\n",
        "    def display (self):\n",
        "        print(\"Inside display function\")\n",
        "        print(\"Class Variable\")\n",
        "        print(\"ID: %d \\nName: %s\"%(Employee.id,Employee.name))\n",
        "    def display1 (self, id, name):\n",
        "        self.id=id\n",
        "        self.name=name\n",
        "        print(\"Inside display1 function\")\n",
        "        print(\"Instance variable\")\n",
        "        print(\"ID: %d \\nName: %s\"%(self.id,self.name))\n",
        "        print(\"Class variable value\")\n",
        "        print(\"ID: %d \\nName: %s\"%(Employee.id,Employee.name))\n",
        "    def display2 (self, id, name):\n",
        "        Employee.id=id\n",
        "        Employee.name=name\n",
        "        print(\"Inside display2 function\")\n",
        "        print(\"class vaiable\")\n",
        "        print(\"ID: %d \\nName: %s\"%(Employee.id,Employee.name))\n",
        "# Creating a emp instance of Employee class\n",
        "emp = Employee()\n",
        "\n",
        "emp.display()\n",
        "\n",
        "emp.display1(1,'A')\n",
        "emp.display2(2,'B')\n",
        "\n",
        "print(Employee.id)\n",
        "emp.display()"
      ],
      "metadata": {
        "colab": {
          "base_uri": "https://localhost:8080/"
        },
        "id": "szhQJkEDJGNE",
        "outputId": "9d7d8800-9cda-4090-c148-e682f635047c"
      },
      "execution_count": 5,
      "outputs": [
        {
          "output_type": "stream",
          "name": "stdout",
          "text": [
            "Inside display function\n",
            "Class Variable\n",
            "ID: 10 \n",
            "Name: John\n",
            "Inside display1 function\n",
            "Instance variable\n",
            "ID: 1 \n",
            "Name: A\n",
            "Class variable value\n",
            "ID: 10 \n",
            "Name: John\n",
            "Inside display2 function\n",
            "class vaiable\n",
            "ID: 2 \n",
            "Name: B\n",
            "2\n",
            "Inside display function\n",
            "Class Variable\n",
            "ID: 2 \n",
            "Name: B\n"
          ]
        }
      ]
    },
    {
      "cell_type": "code",
      "source": [
        "def display1 (self, id, name):\n",
        "        self.id=id\n",
        "        self.name=name\n",
        "        print(\"ID: %d \\nName: %s\"%(self.id,self.name))"
      ],
      "metadata": {
        "id": "HdNSHOcJPO_n"
      },
      "execution_count": 6,
      "outputs": []
    },
    {
      "cell_type": "code",
      "source": [
        "\n",
        "class Student:\n",
        "\tstream = 'MCA'\t\t\t\t # Class Variable\n",
        "\tdef __init__(self,name,roll):\n",
        "\t\tself.name = name\t\t # Instance Variable\n",
        "\t\tself.roll = roll\t\t # Instance Variable\n",
        "\n",
        "# Objects of CSStudent class\n",
        "obj1 = Student('A', 1000)\n",
        "obj2= Student('B', 2000)\n",
        "\n",
        "print(obj1.stream) # MCA\n",
        "print(obj2.stream) #MCA\n",
        "print(obj1.name) # A\n",
        "print(obj2.name) # B\n",
        "print(obj1.roll) # 1000\n",
        "print(obj2.roll) # 2000\n",
        "\n",
        "# Class variables can be accessed using class\n",
        "# name also\n",
        "print(Student.stream) # MCA\n",
        "\n",
        "# Now if we change the stream for just obj1 it won't be changed for b\n",
        "obj1.stream = 'MBA'\n",
        "print(obj1.stream) # MBA\n",
        "print(obj2.stream) # MCA\n",
        "\n",
        "# To change the stream for all instances of the class we can change it\n",
        "# directly from the class\n",
        "Student.stream = 'CSE'\n",
        "\n",
        "print(obj1.stream)  #MBA\n",
        "print(obj2.stream) # CSE\n"
      ],
      "metadata": {
        "colab": {
          "base_uri": "https://localhost:8080/"
        },
        "id": "Uv8bvehjOUxC",
        "outputId": "40c62d34-749e-4b5d-9792-ec4e86a4faf9"
      },
      "execution_count": null,
      "outputs": [
        {
          "output_type": "stream",
          "name": "stdout",
          "text": [
            "MCA\n",
            "MCA\n",
            "A\n",
            "B\n",
            "1000\n",
            "2\n",
            "MCA\n",
            "MBA\n",
            "MCA\n",
            "MBA\n",
            "CSE\n"
          ]
        }
      ]
    },
    {
      "cell_type": "markdown",
      "source": [
        "# Understanding the self variable"
      ],
      "metadata": {
        "id": "tvjgzJuN6rU8"
      }
    },
    {
      "cell_type": "markdown",
      "source": [
        "__init__ method signature is as below.\n",
        "\n",
        "`def __init__(self):`\n",
        "\n",
        "\n",
        "The first argument of every class method, including init, is self variable. By convention, this argument is always named self.\n",
        "\n",
        "The self always a reference to the current instance of the class.\n",
        "\n",
        " In the init method, self refers to the newly created object and in other class methods, it refers to the instance whose method was called."
      ],
      "metadata": {
        "id": "7TNJG7cQ61uc"
      }
    },
    {
      "cell_type": "code",
      "source": [
        "class Student:\n",
        "  def __init__(self, name, age, email):\n",
        "    self.name=name\n",
        "    self.age=age\n",
        "    self.email=email\n",
        "student1=Student(\"Krishna\", 42, \"krishna@ymail.com\")\n",
        "student2=Student(\" XYZ\", 45, \"xyz@gmail.com\")\n",
        "print(\"Student1 detail\", student1.name, student1.age,student1.email)\n",
        "print(\"Student2 detail\", student2.name, student2.age,student2.email)\n"
      ],
      "metadata": {
        "colab": {
          "base_uri": "https://localhost:8080/"
        },
        "id": "Gte1jzEi7LRg",
        "outputId": "e833fbed-2c5f-40b8-d843-2c3bb8c0bf6f"
      },
      "execution_count": 8,
      "outputs": [
        {
          "output_type": "stream",
          "name": "stdout",
          "text": [
            "Student1 detail Krishna 42 krishna@ymail.com\n",
            "Student2 detail  XYZ 45 xyz@gmail.com\n"
          ]
        }
      ]
    },
    {
      "cell_type": "markdown",
      "source": [
        "The init method uses self variable as the first parameter variable.\n",
        "\n",
        "\n",
        "Similarly when creating any method in a class, the signature of the method contains the self variable as the first argument.\n",
        "\n",
        " A method inside a class is written as:\n",
        "\n",
        "\n",
        "`def methodName(self, arg1,.., argn):`\n",
        "\n",
        "If the method has zero arguments it is written as:\n",
        "\n",
        "`def methodName(self):`\n",
        "\n",
        "Though the method signature uses the self variable, a call to the method will not use the self in its calling argument list.\n",
        "\n",
        " It is to be understood that the instance before the dot(.) is replaced in place of self.\n",
        "\n",
        "So self is a placeholder for the current instance."
      ],
      "metadata": {
        "id": "lgCHQ_il8p2k"
      }
    },
    {
      "cell_type": "markdown",
      "source": [
        "When a class is defined with methods, one with multiple arguments and one with zero argument it looks like this:\n",
        "`class className`\n",
        "\n",
        "\tdef method1(self, arg1, arg2,..., argn):\n",
        "\t\tself.arg1 = arg1\n",
        "\t\tself.arg2 = arg2\n",
        "\t\t....\n",
        "\t\tself.argn = argn\n",
        "\n",
        "\n",
        "\tdef method2(self):\n",
        "\t\tstatement1\n",
        "\t\tstatement2\n",
        "\n",
        "Create instances of this class and call methods on that like as follows:\n",
        "\n",
        "`obj1 = className()`\n",
        "\n",
        "`obj2 = className()`\n",
        "\n",
        "\n",
        "When the methods are accessed(don't add self to the argument list, the instance before the dot(replaces self).\n",
        "\n",
        "\n",
        "`obj1.method1('aa', 'bb', 'cc')`\n",
        "\n",
        "`obj2.method1('11', '22', '33')`\n",
        "\n",
        "\n",
        "\n",
        "\n",
        "\n",
        "\n",
        "\n",
        "`obj1.method2()`\n",
        "\n",
        "`obj2.method2()`"
      ],
      "metadata": {
        "id": "gXN764rL9Fjy"
      }
    },
    {
      "cell_type": "code",
      "source": [
        "class Car:\n",
        "  def setDetails(self,model,regno):\n",
        "    self.model=model\n",
        "    self.regno=regno\n",
        "  def getModel(self):\n",
        "    return self.model\n",
        "  def getRegno(self):\n",
        "    return self.regno\n",
        "Hyndai=Car()\n",
        "suzuki=Car()\n",
        "Hyndai.setDetails(\"i10\", \"RJ14AB5678\")\n",
        "suzuki.setDetails(\"swift\", \"RJ45CK1744\")\n",
        "print(\"Hyndui car detals\", Hyndai.getModel(),Hyndai.getRegno())\n",
        "print(\"Suzuki car detals\", suzuki.getModel(),suzuki.getRegno())\n",
        "\n",
        "\n"
      ],
      "metadata": {
        "colab": {
          "base_uri": "https://localhost:8080/"
        },
        "id": "CYYDsZUM9sPj",
        "outputId": "0d8d4572-1282-409d-804e-7bfb319e106d"
      },
      "execution_count": 13,
      "outputs": [
        {
          "output_type": "stream",
          "name": "stdout",
          "text": [
            "Hyndui car detals i10 RJ14AB5678\n",
            "Suzuki car detals swift RJ45CK1744\n"
          ]
        }
      ]
    },
    {
      "cell_type": "markdown",
      "source": [
        "Write a program that uses the self variable in class methods.\n",
        "\n",
        "\n",
        "Print the string passed to the method by following the below steps.\n",
        "\n",
        "Define a class Car.\n",
        "\n",
        "Define a method setName with two arguments self, name. # def setName(self, name):\n",
        "\n",
        "Define method by name getName with one argument self, which returns the name of the car . # def getName(self):\n",
        "\n",
        "Create one instance of Car and name it Honda. Hint: Honda = Car()\n",
        "\n",
        "Take name of the car from the console using input() function\n",
        "Call the method setName() on Honda instance and send carname as argument.# Honda.setName('carname')\n",
        "\n",
        "Call the method getName(), which prints the name of the car. # Honda.getName()\n",
        "\n",
        "Sample Input and Output:\n",
        "\n",
        "car name: Honda Amaze\n",
        "Honda car name: Honda Amaze"
      ],
      "metadata": {
        "id": "QGLskHdz_4ld"
      }
    },
    {
      "cell_type": "markdown",
      "source": [
        "**Important points regarding self variable are :**\n",
        "\n",
        "\n",
        "*   **Self is not a keyword but is a convention followed.**\n",
        "*  **When using self inside init or any method, it should be the first argument in the parameter list**\n",
        "\n",
        "*   **Self is a placeholder.**\n",
        "*   **Self is always a reference to the current** **instance of the class**.\n",
        "\n",
        "\n"
      ],
      "metadata": {
        "id": "cQxj-Cd7AM54"
      }
    },
    {
      "cell_type": "markdown",
      "source": [
        "# Constructor - An introduction\n"
      ],
      "metadata": {
        "id": "5FvftyEuAtVD"
      }
    },
    {
      "cell_type": "markdown",
      "source": [
        "**A constructor** can be viewed as a specific method used by a class to perform tasks such as initialising variables, or any startup task that needs to be done when an instance of a class (object) is created.\n"
      ],
      "metadata": {
        "id": "oH7PY1hDA0uK"
      }
    },
    {
      "cell_type": "markdown",
      "source": [
        "In Python, the constructor is defined with a single name called __init__(self) across all the classes. This method has two leading underscores and two trailing underscores, a convention that helps prevent Python’s default method names from conflicting with user defined method names.\n",
        "\n",
        "\n",
        "When we create a class **without a constructor**, Python automatically creates a **default constructor** that doesn’t do anything but instantiates the object.\n",
        "\n",
        "\n",
        "**Constructors** in Python can be **overloaded** based on the number of arguments.\n",
        "\n",
        "\n",
        "Based on the number of arguments, the specific **constructor** on the class is invoked when an instance is created."
      ],
      "metadata": {
        "id": "FSuIj_OZA7py"
      }
    },
    {
      "cell_type": "markdown",
      "source": [
        "**syntax of the __init__(self) method:**\n",
        "\n",
        "`def __init__(self)`\n",
        "\n",
        "`def __init__(self, arg1,..., argn)`\n"
      ],
      "metadata": {
        "id": "Gf6GqMeFBWxs"
      }
    },
    {
      "cell_type": "markdown",
      "source": [
        "Python constructor, the init method that is a part of the class, when an instance of the class is created, initialises the values in a more cleaner way.\n",
        "\n",
        "To recap, the syntax of init method is\n",
        "\n",
        "`def __init__(self, attribute1, .., attributen):`\n",
        "\n",
        "\tself.attribute1 = attribute1\n",
        "\tself.attribute2 = attribute2\n",
        "\t...\n",
        "\t...\n",
        "\tself.attributen = attributen"
      ],
      "metadata": {
        "id": "ssgtiwbJBn5c"
      }
    },
    {
      "cell_type": "code",
      "source": [
        "class Person:\n",
        "  def __init__(self, name, id, salary):\n",
        "    self.name=name\n",
        "    self.id=id\n",
        "    self.salary=salary\n",
        "\n",
        "p1=Person(\"Mithun\", 1304, 100000)\n",
        "\n",
        "print(\"Person detail   \",\"Name :\", p1.name,\"ID  : \", p1.id,\"salary :\", p1.salary)\n",
        "\n"
      ],
      "metadata": {
        "colab": {
          "base_uri": "https://localhost:8080/"
        },
        "id": "djua5b339KRc",
        "outputId": "3539a1c9-49ac-4cf2-887d-b374a3fa8614"
      },
      "execution_count": 14,
      "outputs": [
        {
          "output_type": "stream",
          "name": "stdout",
          "text": [
            "Person detail    Name : Mithun ID  :  1304 salary : 100000\n"
          ]
        }
      ]
    },
    {
      "cell_type": "code",
      "source": [
        "class Employee:\n",
        "    def __init__(self, name, id):\n",
        "        self.id = id\n",
        "        self.name = name\n",
        "\n",
        "    def display(self):\n",
        "        print(\"ID: %d \\nName: %s\" % (self.id, self.name))\n",
        "\n",
        "\n",
        "emp1 = Employee(\"John\", 101)\n",
        "emp2 = Employee(\"David\", 102)\n",
        "\n",
        "# accessing display() method to print employee 1 information\n",
        "\n",
        "emp1.display()\n",
        "\n",
        "# accessing display() method to print employee 2 information\n",
        "emp2.display()"
      ],
      "metadata": {
        "colab": {
          "base_uri": "https://localhost:8080/"
        },
        "id": "NxkaikG4Jh10",
        "outputId": "30efc3fa-a9cb-4c1a-837b-cf28d6a589d8"
      },
      "execution_count": 15,
      "outputs": [
        {
          "output_type": "stream",
          "name": "stdout",
          "text": [
            "ID: 101 \n",
            "Name: John\n",
            "ID: 102 \n",
            "Name: David\n"
          ]
        }
      ]
    },
    {
      "cell_type": "code",
      "source": [
        "# Counting the number of objects of a class\n",
        "class Student:\n",
        "    count = 0\n",
        "    def __init__(self):\n",
        "        Student.count = Student.count + 1\n",
        "s1=Student()\n",
        "s2=Student()\n",
        "s3=Student()\n",
        "print(\"The number of students:\",Student.count)"
      ],
      "metadata": {
        "colab": {
          "base_uri": "https://localhost:8080/"
        },
        "id": "yLplONAWJ1kz",
        "outputId": "a58f237d-bef0-4a40-84cb-abb1cc522d71"
      },
      "execution_count": null,
      "outputs": [
        {
          "output_type": "stream",
          "name": "stdout",
          "text": [
            "The number of students: 3\n"
          ]
        }
      ]
    },
    {
      "cell_type": "code",
      "source": [
        "# Python Non-Parameterized Constructor\n",
        "\n",
        "class Student:\n",
        "    # Constructor - non parameterized\n",
        "    def __init__(self):\n",
        "        print(\"This is non parametrized constructor\")\n",
        "\n",
        "    def show(self,name):\n",
        "        print(\"Hello\",name)\n",
        "student = Student()\n",
        "student.show(\"John\")"
      ],
      "metadata": {
        "colab": {
          "base_uri": "https://localhost:8080/"
        },
        "id": "rGjVoZzhKCyl",
        "outputId": "78e6305b-fc86-4c2c-8324-0cdc01c57562"
      },
      "execution_count": 17,
      "outputs": [
        {
          "output_type": "stream",
          "name": "stdout",
          "text": [
            "This is non parametrized constructor\n",
            "Hello John\n"
          ]
        }
      ]
    },
    {
      "cell_type": "code",
      "source": [
        "# Python Parameterized Constructor\n",
        "\n",
        "class Student:\n",
        "    # Constructor - parameterized\n",
        "    def __init__(self, name):\n",
        "        print(\"This is parametrized constructor\")\n",
        "        self.name = name\n",
        "\n",
        "\n",
        "    def show(self):\n",
        "        print(\"Hello\",self.name)\n",
        "student = Student(\"John\")\n",
        "student.show()"
      ],
      "metadata": {
        "colab": {
          "base_uri": "https://localhost:8080/"
        },
        "id": "vk1BRZvuKMaF",
        "outputId": "52a98d3e-9855-4786-8386-571d83cc24de"
      },
      "execution_count": null,
      "outputs": [
        {
          "output_type": "stream",
          "name": "stdout",
          "text": [
            "This is parametrized constructor\n",
            "Hello John\n"
          ]
        }
      ]
    },
    {
      "cell_type": "code",
      "source": [
        "# Python Default Constructor\n",
        "class Student:\n",
        "    roll_num = 101\n",
        "    name = \"Joseph\"\n",
        "\n",
        "    def display(self):\n",
        "        print(self.roll_num,self.name)\n",
        "\n",
        "st = Student()\n",
        "st.display()"
      ],
      "metadata": {
        "colab": {
          "base_uri": "https://localhost:8080/"
        },
        "id": "0iQ0hgPcKgCJ",
        "outputId": "07fbab75-e185-4ceb-eeb3-f2514a170b1f"
      },
      "execution_count": null,
      "outputs": [
        {
          "output_type": "stream",
          "name": "stdout",
          "text": [
            "101 Joseph\n"
          ]
        }
      ]
    },
    {
      "cell_type": "code",
      "source": [
        "# Programmin Quiz : Identify  outcome of the Programming\n",
        "\n",
        "class Student:\n",
        "    def __init__(self):\n",
        "        print(\"The First Constructor\")\n",
        "    def __init__(self):\n",
        "        print(\"The second contructor\")\n",
        "\n",
        "st = Student()"
      ],
      "metadata": {
        "colab": {
          "base_uri": "https://localhost:8080/"
        },
        "id": "hDRGsmYvKuvM",
        "outputId": "41951dea-1dc1-47fa-b638-59f48db40d40"
      },
      "execution_count": null,
      "outputs": [
        {
          "output_type": "stream",
          "name": "stdout",
          "text": [
            "The second contructor\n"
          ]
        }
      ]
    },
    {
      "cell_type": "markdown",
      "source": [
        "Write a program to take the name and salary as input from the user and print the details of the employee as shown in the sample test cases.\n",
        "\n",
        "Expected Output:\n",
        "name:·Diego\n",
        "salary:·50000\n",
        "name:·Diego·,·salary:·5000"
      ],
      "metadata": {
        "id": "y0c2UXP1Dgy9"
      }
    },
    {
      "cell_type": "markdown",
      "source": [
        "Please write a simple program following the below steps:\n",
        "\n",
        "\n",
        "Define a class Student\n",
        "\n",
        "Define __init__ method with arguments self, name, age and email.\n",
        "\n",
        "Inside the __init__ method, set self.name = name, self.age = age, self.email = email.\n",
        "\n",
        "Take name and age from the console by calling input and store them in the variables s1_name, s1_age\n",
        "\n",
        "`s1_name= input(\"Please enter a name of the student1: \")`\n",
        "`s1_age = int(input(\"Please enter age of the student1: \")`\n",
        "\n",
        "\n",
        "\n",
        "\n",
        "Create an instance Stud_1 of class Student by passing the values as arguments\n",
        "\n",
        "`Stud_1 = Student(s1_name, s1_age, \"arya@gmail.com\")`\n",
        "\n",
        "Take name and age from the console by calling input and store them in the variables s2_name, s2_age\n",
        " `s2_name= input(\"Please enter a name of the student2:\")`\n",
        " `s2_age = int(input(\"Please enter age of the student2:\")`\n",
        "Create an instance Stud_2 of class Student by passing the values as arguments\n",
        "\n",
        " `Stud_2 = Student(s2_name, s2_age , \"geetha@gmail.com\")`\n",
        "\n",
        "`Print Stud_1.name`\n",
        "\n",
        "` print ('Stud_1.name = ', Stud_1.name)`\n",
        "\n",
        "`Print Stud_2.name`\n",
        "\n",
        "`print ('Stud_2.name = ', Stud_2.name)`\n",
        "\n"
      ],
      "metadata": {
        "id": "5eq83VsDClsB"
      }
    },
    {
      "cell_type": "markdown",
      "source": [
        "# Methods - An overview\n"
      ],
      "metadata": {
        "id": "TLq3kTBbERTi"
      }
    },
    {
      "cell_type": "markdown",
      "source": [
        "**Methods** are a set of statements that are called to perform a specific task.\n",
        "\n",
        "\n",
        "What is the difference between **function and method**?\n",
        "\n",
        "\n",
        "The terms function and method are used *interchangeably*, but if a specific difference is to be noted, a function does not need to be part of a class (this is followed in functional programming) whereas a **method (which is a part of Object-oriented Programming) is a function which is always used inside a class to access the variables that hold instance data.** So going forward, we shall be using the term method.\n",
        "\n",
        "**Methods are defined inside a class using the syntax:**\n"
      ],
      "metadata": {
        "id": "tw7UCIy_EVaC"
      }
    },
    {
      "cell_type": "markdown",
      "source": [
        "`class Class_Name:\t`\n",
        "\n",
        "\tdef method1(self, arg1,..., argn):\n",
        "\t\tStatement_1\n",
        "\t\tStatement_2\n",
        "\t\t...\n",
        "\t\t....\n",
        "\t\tStatement_n\n",
        "    def method2(self):\n",
        " \t \tStatement_1\n",
        "\t \tStatement_2\n",
        "\t \t...\n",
        "\t \t....\n",
        "\t \tStatement_n\n",
        "\n",
        "\n",
        "\n"
      ],
      "metadata": {
        "id": "MuF5l9DJEzpb"
      }
    },
    {
      "cell_type": "markdown",
      "source": [
        "Methods when called, are generally specific to an instance of the class like the one below:\n",
        "\n",
        "\n",
        "\n",
        "`C1 = Class_Name()`\n",
        "\n",
        "`C1.method1(1, 2, 3)`\n",
        "\n",
        "`C1.method2()`\n",
        "\n",
        "\n",
        "Methods cannot be overloaded but can be overridden under inheritance. We shall understand about it in the next section.\n"
      ],
      "metadata": {
        "id": "iVjXRVp7FVJO"
      }
    },
    {
      "cell_type": "markdown",
      "source": [
        "write a program that:\n",
        "\n",
        "Defines a class that has two variables, two methods.\n",
        "\n",
        "Create two instances of the class.\n",
        "\n",
        "Call the methods on each instance"
      ],
      "metadata": {
        "id": "h746bL56orsY"
      }
    },
    {
      "cell_type": "code",
      "source": [
        "class Person:\n",
        "  def setName(self,name):\n",
        "    self.name=name\n",
        "  def getName(self):\n",
        "    return self.name\n",
        "p1=Person()\n",
        "p2=Person()\n",
        "p1.setName(\"Radha\")\n",
        "p2.setName(\"Krishan\")\n",
        "print(\"Person1 Name  :  \", p1.getName())\n",
        "print(\"Person2 Name  :  \", p2.getName())\n"
      ],
      "metadata": {
        "colab": {
          "base_uri": "https://localhost:8080/"
        },
        "id": "JXIYGiwUovfz",
        "outputId": "15726347-2f23-43da-a367-72ce09483c9a"
      },
      "execution_count": null,
      "outputs": [
        {
          "output_type": "stream",
          "name": "stdout",
          "text": [
            "Person1 Name  :   Radha\n",
            "Person2 Name  :   Krishan\n"
          ]
        }
      ]
    },
    {
      "cell_type": "markdown",
      "source": [
        "**Overloading** is the ability of a function (method) to behave in different ways based on the parameters that are passed to the function (method).\n",
        "\n",
        "\n",
        "**Definition**: Method overloading means the ability to have multiple methods with same name which vary in their parameters.\n",
        "\n",
        " It is one of the concepts in Polymorphism. But ***Python does not allow this kind of overloading***\n",
        "\n",
        "**Multiple methods with same name is not possible**\n"
      ],
      "metadata": {
        "id": "lbDbpzvmp4ei"
      }
    },
    {
      "cell_type": "markdown",
      "source": [
        "**In Python,** we can create a method that **can be called in different ways**. In a single method, we specify the total number of parameters and depending on the method definition, we can call it with zero, one or more arguments."
      ],
      "metadata": {
        "id": "2icKVuRNqFPa"
      }
    },
    {
      "cell_type": "markdown",
      "source": [
        "**This process of calling the same method in different ways is called method overloading.**"
      ],
      "metadata": {
        "id": "f2qw1_TBqNOp"
      }
    },
    {
      "cell_type": "code",
      "source": [
        "class Class_Name:\n",
        "  def method1(self, name = None, wish = None):\n",
        "    if name is not None and wish is not None:\n",
        "     print ('Hello ' + name + wish)\n",
        "    elif name is not None and wish is None:\n",
        "      print ('Hello ' + name)\n",
        "    else:\n",
        "      print ('Hello ')\n",
        "\n",
        "\n",
        "object_1 = Class_Name()\n",
        "object_1.method1() # Calling method1 with zero parameters\n",
        "object_1.method1(\"Ram\") # Calling method1 with only one parameter\n",
        "object_1.method1(\"Ram\",\"Good Morning\") # Calling method1 with two parameters"
      ],
      "metadata": {
        "colab": {
          "base_uri": "https://localhost:8080/"
        },
        "id": "pIkgU4uCqT4b",
        "outputId": "8972663f-8ec0-49f3-eb0f-d472a7e4af36"
      },
      "execution_count": 18,
      "outputs": [
        {
          "output_type": "stream",
          "name": "stdout",
          "text": [
            "Hello \n",
            "Hello Ram\n",
            "Hello RamGood Morning\n"
          ]
        }
      ]
    },
    {
      "cell_type": "code",
      "source": [
        "class Employee:\n",
        "    id = 10\n",
        "    name = \"John\"\n",
        "    def display (self):\n",
        "        print(\"Inside display function\")\n",
        "        print(\"Class Variable\")\n",
        "        print(\"ID: %d \\nName: %s\"%(Employee.id,Employee.name))\n",
        "    def display1 (self, id, name):\n",
        "        self.id=id\n",
        "        self.name=name\n",
        "        print(\"Inside display1 function\")\n",
        "        print(\"Instance variable\")\n",
        "        print(\"ID: %d \\nName: %s\"%(self.id,self.name))\n",
        "        print(\"Class variable value\")\n",
        "        print(\"ID: %d \\nName: %s\"%(Employee.id,Employee.name))\n",
        "    def display2 (self, id, name):\n",
        "        Employee.id=id\n",
        "        Employee.name=name\n",
        "        print(\"Inside display2 function\")\n",
        "        print(\"class vaiable\")\n",
        "        print(\"ID: %d \\nName: %s\"%(Employee.id,Employee.name))\n",
        "# Creating a emp instance of Employee class\n",
        "emp = Employee()\n",
        "\n",
        "emp.display()\n",
        "\n",
        "emp.display1(1,'A')\n",
        "emp.display2(2,'B')\n",
        "\n",
        "print(Employee.id)\n",
        "emp.display()"
      ],
      "metadata": {
        "id": "01FO4UQqS2Jx"
      },
      "execution_count": null,
      "outputs": []
    },
    {
      "cell_type": "code",
      "source": [
        "class Student:\n",
        "\tstream = 'MCA'\t\t\t\t # Class Variable\n",
        "\tdef __init__(self,name,roll):\n",
        "\t\tself.name = name\t\t # Instance Variable\n",
        "\t\tself.roll = roll\t\t # Instance Variable\n",
        "\n",
        "# Objects of CSStudent class\n",
        "obj1 = Student('A', 1000)\n",
        "obj2= Student('B', 2000)\n",
        "print(\"Class variable\")\n",
        "print(obj1.stream) # MCA\n",
        "print(obj2.stream) #MCA\n",
        "print(\"Instance variable\")\n",
        "print(obj1.name) # A\n",
        "print(obj2.name) # B\n",
        "print(obj1.roll) # 1000\n",
        "print(obj2.roll) # 2000\n",
        "\n",
        "# Class variables can be accessed using class\n",
        "# name also\n",
        "\n",
        "print(\"Class variable after assigning values to instance variable\")\n",
        "print(\"Student.stream = \", Student.stream) # MCA\n",
        "\n",
        "\n",
        "# Now if we change the stream for just obj1 it won't be changed for b\n",
        "print(\"After changingass variable value by object. Value will be changed only for that object\")\n",
        "obj1.stream = 'MBA'\n",
        "print(\"obj1.stream=\",obj1.stream) # MBA\n",
        "\n",
        "print(\"obj2.stream\",obj2.stream) # MCA\n",
        "\n",
        "\n",
        "# To change the stream for all instances of the class we can change it\n",
        "# directly from the class\n",
        "Student.stream = 'CSE'\n",
        "print(\"After changing class variable value to CSE\")\n",
        "print(\"obj1.stream\", obj1.stream)  #MBA\n",
        "\n",
        "print(\"obj2.stream\", obj2.stream) # CSE\n",
        "\n"
      ],
      "metadata": {
        "colab": {
          "base_uri": "https://localhost:8080/"
        },
        "id": "hSXpx--YXK5l",
        "outputId": "ba96ac60-07b2-4df5-c54e-b5182ed4e9fc"
      },
      "execution_count": null,
      "outputs": [
        {
          "output_type": "stream",
          "name": "stdout",
          "text": [
            "Class variable\n",
            "MCA\n",
            "MCA\n",
            "Instance variable\n",
            "A\n",
            "B\n",
            "1000\n",
            "2000\n",
            "Class variable after assigning values to instance variable\n",
            "Student.stream =  MCA\n",
            "After changingass variable value by object. Value will be changed only for that object\n",
            "obj1.stream= MBA\n",
            "obj2.stream MCA\n",
            "After changing class variable value to CSE\n",
            "obj1.stream MBA\n",
            "obj2.stream CSE\n"
          ]
        }
      ]
    },
    {
      "cell_type": "markdown",
      "source": [
        "# Inheritance"
      ],
      "metadata": {
        "id": "HVdwExLits39"
      }
    },
    {
      "cell_type": "markdown",
      "source": [
        "is implemented by creating a derived class that can have the features of the base class in addition to having features of its own.\n",
        "\n",
        "\n",
        "In real time, it's more of the parent child relationship. A child generally has the features of the parent and has an addition of new features"
      ],
      "metadata": {
        "id": "HNRK1McptwCT"
      }
    },
    {
      "cell_type": "markdown",
      "source": [
        "A base class is created just like a regular class.\n",
        "\n",
        "`class BaseClassName:`\n",
        "\n",
        "\t`statement1`\n",
        "\n",
        "  …\n",
        "`\tstatementn`"
      ],
      "metadata": {
        "id": "1fkGMmfvt01j"
      }
    },
    {
      "cell_type": "markdown",
      "source": [
        "A derived class is created by passing the base class name as a parameter to the derived class as shown as below.\n",
        "\n",
        "\n",
        "`class derivedClassName(BaseClassName):`\n",
        "\n",
        "\tstatement1\n",
        "\tstatement2\n",
        "\t...\n",
        "\t...\n",
        "\t...\n",
        "\tstatementn"
      ],
      "metadata": {
        "id": "k77yVhAiuEK0"
      }
    },
    {
      "cell_type": "markdown",
      "source": [
        "A base class can be in the same module or another module. If it is present in a different module, then, the module name followed by dot (.) operator precedes the BaseClassName and is passed as parameter as shown below:\n",
        "\n",
        "`class derivedClassName(mod1.BaseClassName):`\n",
        "\n",
        "\tstatement1\n",
        "\t...\n",
        "\t...\n",
        "\tstatementn"
      ],
      "metadata": {
        "id": "-1-GeJFfuMAr"
      }
    },
    {
      "cell_type": "markdown",
      "source": [
        "Quiz : Select the correct statements given below.\n",
        "\n",
        "\n",
        "1.   Inheritance is implemented by creating a derived class that can have the features of the base class in addition to having features of it own.\n",
        "2.   In Python , a base class is created like a regular class.\n",
        "1.   A derived class is created by passing the base class name as a parameter to the derived class.\n",
        "2.   A base class should be in the same module\n",
        "\n",
        "\n",
        "\n",
        "\n",
        "\n"
      ],
      "metadata": {
        "id": "1oc3oighud6p"
      }
    },
    {
      "cell_type": "code",
      "source": [
        "# Base class\n",
        "class Car:\n",
        "  def setenginemodel(self, engine):\n",
        "    self.engine=engine\n",
        "  def getenginemodel(self):\n",
        "    print(\"Car Engine : \", self.engine)\n",
        "\n",
        "# derived class\n",
        "\n",
        "\n",
        "class Suzuki(Car):\n",
        "  def setcarmodel(self,model):\n",
        "    self.model=model\n",
        "  def getcarmodel(self):\n",
        "    print(\"Car model :\", self.model)\n",
        "\n",
        "\n",
        "\n",
        "mycar=Suzuki()\n",
        "mycar.setenginemodel(\"BS6\")\n",
        "mycar.setcarmodel(\"Swift\")\n",
        "print(\"Car detail:  \")\n",
        "mycar.getenginemodel()\n",
        "mycar.getcarmodel()\n",
        "\n",
        "\n"
      ],
      "metadata": {
        "colab": {
          "base_uri": "https://localhost:8080/"
        },
        "id": "IcHMiojhu5vY",
        "outputId": "4c25180a-3568-4cc1-c347-d413ce1276c9"
      },
      "execution_count": null,
      "outputs": [
        {
          "output_type": "stream",
          "name": "stdout",
          "text": [
            "Car detail:  \n",
            "Car Engine :  BS6\n",
            "Car model : Swift\n"
          ]
        }
      ]
    },
    {
      "cell_type": "code",
      "source": [
        "class Animal:\n",
        "    def speak(self):\n",
        "        print(\"Animal Speaking\")\n",
        "#child class Dog inherits the base class Animal\n",
        "class Dog(Animal):\n",
        "    def bark(self):\n",
        "        print(\"dog barking\")\n",
        "d = Dog()\n",
        "d.bark()\n",
        "d.speak()"
      ],
      "metadata": {
        "colab": {
          "base_uri": "https://localhost:8080/"
        },
        "id": "BOPXjhUTLFFU",
        "outputId": "d9c90ce8-32a5-4151-d72c-02ce28a77fd5"
      },
      "execution_count": null,
      "outputs": [
        {
          "output_type": "stream",
          "name": "stdout",
          "text": [
            "dog barking\n",
            "Animal Speaking\n"
          ]
        }
      ]
    },
    {
      "cell_type": "markdown",
      "source": [
        "Python supports **Multiple Inheritance** which means a class can inherit features (attributes and methods) from more than one base / parent class.\n",
        "\n",
        "\n"
      ],
      "metadata": {
        "id": "xcMzkETixhV_"
      }
    },
    {
      "cell_type": "markdown",
      "source": [
        "![image.png](data:image/png;base64,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)"
      ],
      "metadata": {
        "id": "hcuRrSb3xnTe"
      }
    },
    {
      "cell_type": "markdown",
      "source": [
        "Syntax:\n",
        "\n",
        "`class base1`\n",
        "\n",
        "\tstatement1\n",
        "\t...\n",
        "\tstatementn\n",
        "\n",
        "`class base2:`\n",
        "\n",
        "\tstatement1\n",
        "\t...\n",
        "\tstatementn\n",
        "\n",
        "`class derived(base1, base2):`\n",
        "\n",
        "\n",
        "\n",
        "\n",
        "\n",
        "\n",
        "\tstatement1\n",
        "\t...\n",
        "\tstatementn"
      ],
      "metadata": {
        "id": "jmjPFetCxtnm"
      }
    },
    {
      "cell_type": "code",
      "source": [
        "# class 1\n",
        "class Car:\n",
        "  def setenginemodel(self, engine):\n",
        "      self.engine = engine\n",
        "  def getenginemodel(self):\n",
        "      print (self.engine)\n",
        "\n",
        "\n",
        "#class 2\n",
        "class Tyre:\n",
        "  def settyrenumber(self, num):\n",
        "      self.num = num\n",
        "  def gettyrenumber(self):\n",
        "      print(self.num)\n",
        "# class 3 inheriating Class 1 and class2\n",
        "\n",
        "\n",
        "class Honda(Car, Tyre):\n",
        "    def setcarmodel(self, model):\n",
        "      self.model=model\n",
        "    def getcarmodel(self):\n",
        "      print(self.model)\n",
        "\n",
        "\n",
        "\n",
        "Accord = Honda()\n",
        "Accord.setenginemodel('EK-1')\n",
        "Accord.setcarmodel('V6')\n",
        "Accord.settyrenumber(236)\n",
        "print('Car Details : ')\n",
        "Accord.getenginemodel()\n",
        "Accord.getcarmodel()\n",
        "Accord.gettyrenumber()\n",
        "\n"
      ],
      "metadata": {
        "colab": {
          "base_uri": "https://localhost:8080/"
        },
        "id": "SigAT6bZxpvR",
        "outputId": "2f8aed54-9f20-4af4-bec4-a4d6e7867c45"
      },
      "execution_count": null,
      "outputs": [
        {
          "output_type": "stream",
          "name": "stdout",
          "text": [
            "Car Details : \n",
            "EK-1\n",
            "V6\n",
            "236\n"
          ]
        }
      ]
    },
    {
      "cell_type": "code",
      "source": [
        "class Calculation1:\n",
        "    def Summation(self,a,b):\n",
        "        return a+b;\n",
        "\n",
        "\n",
        "class Calculation2:\n",
        "    def Multiplication(self,a,b):\n",
        "        return a*b;\n",
        "\n",
        "\n",
        "class Derived(Calculation1,Calculation2):\n",
        "    def Divide(self,a,b):\n",
        "        return a/b;\n",
        "\n",
        "\n",
        "d = Derived()\n",
        "print(d.Summation(10,20))\n",
        "print(d.Multiplication(10,20))\n",
        "print(d.Divide(10,20))"
      ],
      "metadata": {
        "colab": {
          "base_uri": "https://localhost:8080/"
        },
        "id": "mzewOrZULYXd",
        "outputId": "d2747e9f-52d0-4fd2-ae72-1c52f1d40659"
      },
      "execution_count": null,
      "outputs": [
        {
          "output_type": "stream",
          "name": "stdout",
          "text": [
            "30\n",
            "200\n",
            "0.5\n"
          ]
        }
      ]
    },
    {
      "cell_type": "markdown",
      "source": [
        "**Multilevel Inheritance** is also possible in Python.\n",
        "\n",
        "\n",
        "Multilevel Inheritance: It is a mechanism through which features of the base class and the derived class are inherited into a new derived class. It is like the grandparent-parent-child relationship. This kind of inheritance can go upto any level.\n"
      ],
      "metadata": {
        "id": "w395A2qR1B7I"
      }
    },
    {
      "cell_type": "markdown",
      "source": [
        "![image.png](data:image/png;base64,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)"
      ],
      "metadata": {
        "id": "F8G6rwmL1JLI"
      }
    },
    {
      "cell_type": "markdown",
      "source": [
        "Syntax:\n",
        "\n",
        "`class BaseClassName:`\n",
        "\n",
        "\tStatement1\n",
        "\t...\n",
        "\tStatement n\n",
        "\n",
        "`class derived1(base):`\n",
        "\n",
        "\tStatement1\n",
        "\t...\n",
        "\tStatement n\n",
        "\n",
        "`class derived2(derived1):`\n",
        "\n",
        "\tStatement1\n",
        "\t...\n",
        "\tStatement n"
      ],
      "metadata": {
        "id": "m4fM4DEu1L5a"
      }
    },
    {
      "cell_type": "code",
      "source": [
        "class Car:\n",
        "    def setenginemodel(self, engine):\n",
        "        self.engine = engine\n",
        "    def getenginemodel(self):\n",
        "        print(self.engine)\n",
        "\n",
        "\n",
        "class Tyre(Car):\n",
        "    def settyrenumber(self, num):\n",
        "        self.num = num\n",
        "    def gettyrenumber(self):\n",
        "        print(self.num)\n",
        "\n",
        "\n",
        "\n",
        "class Honda(Tyre):\n",
        "    def setcarmodel(self, model):\n",
        "        self.model = model\n",
        "\n",
        "    def getcarmodel(self):\n",
        "        print(self.model)\n",
        "\n",
        "\n",
        "\n",
        "accord = Honda()\n",
        "accord.setenginemodel('EK-1')\n",
        "accord.settyrenumber(236)\n",
        "accord.setcarmodel('V6')\n",
        "print('Car Details : ')\n",
        "accord.getenginemodel()\n",
        "accord.gettyrenumber()\n",
        "accord.getcarmodel()\n",
        "\n",
        "\n",
        ""
      ],
      "metadata": {
        "colab": {
          "base_uri": "https://localhost:8080/"
        },
        "id": "D_6hd0JR1aBz",
        "outputId": "8ce602cc-90ad-43ba-c6b0-2cc00c143cb7"
      },
      "execution_count": null,
      "outputs": [
        {
          "output_type": "stream",
          "name": "stdout",
          "text": [
            "Car Details : \n",
            "EK-1\n",
            "236\n",
            "V6\n"
          ]
        }
      ]
    },
    {
      "cell_type": "code",
      "source": [
        "class Animal:\n",
        "    def speak(self):\n",
        "        print(\"Animal Speaking\")\n",
        "\n",
        "\n",
        "#The child class Dog inherits the base class Animal\n",
        "class Dog(Animal):\n",
        "    def bark(self):\n",
        "        print(\"dog barking\")\n",
        "\n",
        "\n",
        "#The child class Dogchild inherits another child class Dog\n",
        "class DogChild(Dog):\n",
        "    def eat(self):\n",
        "        print(\"Eating bread...\")\n",
        "\n",
        "\n",
        "d = DogChild()\n",
        "d.bark()\n",
        "d.speak()\n",
        "d.eat()"
      ],
      "metadata": {
        "colab": {
          "base_uri": "https://localhost:8080/"
        },
        "id": "Uo9jhbIfLO38",
        "outputId": "a3f7df22-a111-4d09-d5a1-324e393c6fbe"
      },
      "execution_count": null,
      "outputs": [
        {
          "output_type": "stream",
          "name": "stdout",
          "text": [
            "dog barking\n",
            "Animal Speaking\n",
            "Eating bread...\n"
          ]
        }
      ]
    }
  ]
}

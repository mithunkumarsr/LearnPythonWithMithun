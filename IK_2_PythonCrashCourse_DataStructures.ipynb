{
  "cells": [
    {
      "cell_type": "markdown",
      "metadata": {
        "id": "view-in-github",
        "colab_type": "text"
      },
      "source": [
        "<a href=\"https://colab.research.google.com/github/mithunkumarsr/LearnPythonWithMithun/blob/master/IK_2_PythonCrashCourse_DataStructures.ipynb\" target=\"_parent\"><img src=\"https://colab.research.google.com/assets/colab-badge.svg\" alt=\"Open In Colab\"/></a>"
      ]
    },
    {
      "cell_type": "markdown",
      "metadata": {
        "id": "SxrT-KtKRzfr"
      },
      "source": [
        "# Python Data Structures\n",
        "In this notebook, we will cover various data structures in Python including lists, tuples, sets, and dictionaries. We will also explore some common methods and operations for each of these data structures."
      ]
    },
    {
      "cell_type": "markdown",
      "metadata": {
        "id": "jJleac8-Rzft"
      },
      "source": [
        "## Lists\n",
        "Lists are ordered collections of items. Lists are mutable, meaning their contents can be changed. Here are some common methods and operations you can perform on lists."
      ]
    },
    {
      "cell_type": "code",
      "execution_count": null,
      "metadata": {
        "colab": {
          "base_uri": "https://localhost:8080/"
        },
        "id": "Ty3yCV2eRzfu",
        "outputId": "6c722639-cc3c-47b6-d5d2-a66d326e0166"
      },
      "outputs": [
        {
          "output_type": "stream",
          "name": "stdout",
          "text": [
            "['apple', 'banana', 'cherry']\n",
            "['apple', 'banana', 'cherry', 'orange']\n",
            "['apple', 'cherry', 'orange']\n",
            "cherry\n",
            "orange\n"
          ]
        }
      ],
      "source": [
        "# List examples\n",
        "fruits = ['apple', 'banana', 'cherry']\n",
        "print(fruits)\n",
        "\n",
        "# Append an item to the list\n",
        "fruits.append('orange')\n",
        "print(fruits)\n",
        "\n",
        "# Remove an item from the list\n",
        "fruits.remove('banana')\n",
        "print(fruits)\n",
        "\n",
        "# Accessing list elements\n",
        "print(fruits[1])  # Second item\n",
        "print(fruits[-1]) # Last item"
      ]
    },
    {
      "cell_type": "markdown",
      "metadata": {
        "id": "Loa4puTzRzfx"
      },
      "source": [
        "## Slicing in Python\n",
        "Slicing is used to access a range of elements in a list or a string. Here are some examples:"
      ]
    },
    {
      "cell_type": "markdown",
      "source": [
        "list[start:stop:step]\n",
        "numbers[2:5] ==> element at second index to element fourth index\n",
        "  - stop is exclusive is not added to the new list"
      ],
      "metadata": {
        "id": "fQhVwOnCVzQr"
      }
    },
    {
      "cell_type": "code",
      "execution_count": null,
      "metadata": {
        "colab": {
          "base_uri": "https://localhost:8080/"
        },
        "id": "fNGmA_naRzfy",
        "outputId": "3f8dd178-8aea-46d5-92b6-c227d722da07"
      },
      "outputs": [
        {
          "output_type": "stream",
          "name": "stdout",
          "text": [
            "[2, 3, 4]\n",
            "[0, 1, 2]\n",
            "[5, 6, 7, 8, 9]\n",
            "[7, 8, 9]\n",
            "World\n",
            "Hello\n",
            "World!\n",
            "World!\n"
          ]
        }
      ],
      "source": [
        "# Slicing lists\n",
        "numbers = [0, 1, 2, 3, 4, 5, 6, 7, 8, 9]\n",
        "print(numbers[2:5])   # Elements from index 2 to 4\n",
        "print(numbers[:3])    # First three elements\n",
        "print(numbers[5:])    # Elements from index 5 to the end\n",
        "print(numbers[-3:])   # Last three elements\n",
        "\n",
        "# Slicing strings\n",
        "text = 'Hello, World!'\n",
        "print(text[7:12])    # Characters from index 7 to 11\n",
        "print(text[:5])      # First five characters\n",
        "print(text[7:])      # Characters from index 7 to the end\n",
        "print(text[-6:])     # Last six characters"
      ]
    },
    {
      "cell_type": "markdown",
      "metadata": {
        "id": "VZ9r2IbXRzfz"
      },
      "source": [
        "## Joining and Splitting Lists\n",
        "The `join` method is used to convert a list into a string, and the `split` method is used to split a string into a list. Here are some examples:"
      ]
    },
    {
      "cell_type": "code",
      "execution_count": null,
      "metadata": {
        "colab": {
          "base_uri": "https://localhost:8080/"
        },
        "id": "bCpKSTf0Rzf0",
        "outputId": "ba77bc4f-d18c-4e99-b2b2-d453db0a6ab8"
      },
      "outputs": [
        {
          "output_type": "stream",
          "name": "stdout",
          "text": [
            "Python is fun\n",
            "['Python', 'is', 'fun']\n"
          ]
        }
      ],
      "source": [
        "# Join a list into a string\n",
        "words = ['Python', 'is', 'fun']\n",
        "sentence = ' '.join(words)\n",
        "print(sentence)\n",
        "\n",
        "# Split a string into a list\n",
        "text = 'Python is fun'\n",
        "word_list = text.split(' ')\n",
        "print(word_list)"
      ]
    },
    {
      "cell_type": "markdown",
      "metadata": {
        "id": "iBFp9oqsRzf0"
      },
      "source": [
        "## Tuples\n",
        "Tuples are ordered collections of items, similar to lists. However, tuples are immutable, meaning their contents cannot be changed."
      ]
    },
    {
      "cell_type": "code",
      "execution_count": null,
      "metadata": {
        "colab": {
          "base_uri": "https://localhost:8080/"
        },
        "id": "aqRC9E2SRzf1",
        "outputId": "17c78907-76e2-43a0-afad-90c74d5d9de7"
      },
      "outputs": [
        {
          "output_type": "stream",
          "name": "stdout",
          "text": [
            "(1920, 1080)\n",
            "1920\n",
            "1080\n"
          ]
        }
      ],
      "source": [
        "# Tuple examples\n",
        "dimensions = (1920, 1080)\n",
        "print(dimensions)\n",
        "print(dimensions[0])\n",
        "print(dimensions[1])\n",
        "\n",
        "# Tuples are immutable\n",
        "# dimensions[0] = 1280  # This will raise an error"
      ]
    },
    {
      "cell_type": "markdown",
      "metadata": {
        "id": "1pp13lpJRzf2"
      },
      "source": [
        "## Sets\n",
        "Sets are unordered collections of unique items. They are mutable and allow for efficient membership testing."
      ]
    },
    {
      "cell_type": "code",
      "execution_count": null,
      "metadata": {
        "colab": {
          "base_uri": "https://localhost:8080/"
        },
        "id": "tj38wSm2Rzf3",
        "outputId": "23ca7a0c-af85-473d-df44-34052fb2dc42"
      },
      "outputs": [
        {
          "output_type": "stream",
          "name": "stdout",
          "text": [
            "{'apple', 'banana', 'cherry'}\n",
            "{'apple', 'banana', 'orange', 'cherry'}\n",
            "{'apple', 'banana', 'grape', 'mango', 'orange', 'cherry'}\n",
            "{'apple', 'grape', 'mango', 'orange', 'cherry'}\n"
          ]
        }
      ],
      "source": [
        "# Set examples\n",
        "fruits = {'apple', 'banana', 'cherry'}\n",
        "print(fruits)\n",
        "\n",
        "# Add an item to the set\n",
        "fruits.add('orange')\n",
        "print(fruits)\n",
        "\n",
        "# Update the set with multiple items\n",
        "fruits.update(['mango', 'grape'])\n",
        "print(fruits)\n",
        "\n",
        "# Remove an item from the set\n",
        "fruits.remove('banana')\n",
        "print(fruits)"
      ]
    },
    {
      "cell_type": "markdown",
      "metadata": {
        "id": "otaltOd-Rzf5"
      },
      "source": [
        "## Dictionaries\n",
        "Dictionaries are collections of key-value pairs. They are unordered and mutable."
      ]
    },
    {
      "cell_type": "code",
      "execution_count": null,
      "metadata": {
        "colab": {
          "base_uri": "https://localhost:8080/"
        },
        "id": "3XTMbiJSRzf5",
        "outputId": "73c8d017-9c95-48a0-a7e9-04a55ac83c9f"
      },
      "outputs": [
        {
          "output_type": "stream",
          "name": "stdout",
          "text": [
            "{'name': 'Alice', 'age': 25, 'courses': ['Math', 'CompSci'], 'is_student': True}\n",
            "Alice\n",
            "25\n",
            "{'name': 'Alice', 'age': 26, 'courses': ['Math', 'CompSci'], 'is_student': True, 'phone': '555-5555'}\n"
          ]
        }
      ],
      "source": [
        "# Dictionary examples\n",
        "student = {\n",
        "    'name': 'Alice',\n",
        "    'age': 25,\n",
        "    'courses': ['Math', 'CompSci'],\n",
        "    'is_student': True\n",
        "}\n",
        "print(student)\n",
        "\n",
        "# Accessing dictionary values\n",
        "print(student['name'])\n",
        "print(student['age'])\n",
        "\n",
        "# Adding and updating dictionary values\n",
        "student['age'] = 26\n",
        "student['phone'] = '555-5555'\n",
        "print(student)"
      ]
    }
  ],
  "metadata": {
    "kernelspec": {
      "display_name": "Python 3 (ipykernel)",
      "language": "python",
      "name": "python3"
    },
    "language_info": {
      "codemirror_mode": {
        "name": "ipython",
        "version": 3
      },
      "file_extension": ".py",
      "mimetype": "text/x-python",
      "name": "python",
      "nbconvert_exporter": "python",
      "pygments_lexer": "ipython3",
      "version": "3.11.5"
    },
    "colab": {
      "provenance": [],
      "include_colab_link": true
    }
  },
  "nbformat": 4,
  "nbformat_minor": 0
}
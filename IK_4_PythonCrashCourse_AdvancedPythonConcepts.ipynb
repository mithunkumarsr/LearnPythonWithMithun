{
  "cells": [
    {
      "cell_type": "markdown",
      "metadata": {
        "id": "view-in-github",
        "colab_type": "text"
      },
      "source": [
        "<a href=\"https://colab.research.google.com/github/mithunkumarsr/LearnPythonWithMithun/blob/master/IK_4_PythonCrashCourse_AdvancedPythonConcepts.ipynb\" target=\"_parent\"><img src=\"https://colab.research.google.com/assets/colab-badge.svg\" alt=\"Open In Colab\"/></a>"
      ]
    },
    {
      "cell_type": "markdown",
      "metadata": {
        "id": "uvINY_-STuLK"
      },
      "source": [
        "# Advanced Python Concepts\n",
        "In this notebook, we will cover advanced Python concepts including lambda functions, classes, the use of `self`, `__init__` method, inheritance, the use of `super`, and modules and packages."
      ]
    },
    {
      "cell_type": "code",
      "source": [],
      "metadata": {
        "id": "q6KQouw7xGMR"
      },
      "execution_count": null,
      "outputs": []
    },
    {
      "cell_type": "markdown",
      "metadata": {
        "id": "1Fn6E6plTuLN"
      },
      "source": [
        "## Lambda Functions\n",
        "Lambda functions are small anonymous functions defined using the `lambda` keyword. They can have any number of arguments but only one expression."
      ]
    },
    {
      "cell_type": "code",
      "execution_count": null,
      "metadata": {
        "id": "EIY4HpzRTuLO"
      },
      "outputs": [],
      "source": [
        "# Lambda function example\n",
        "add = lambda x, y: x + y\n",
        "print(add(2, 3))  # Output: 5\n",
        "\n",
        "square = lambda x: x ** 2\n",
        "print(square(4))  # Output: 16"
      ]
    },
    {
      "cell_type": "code",
      "source": [
        "def add(x, y):\n",
        "  return x + y"
      ],
      "metadata": {
        "id": "r7Ri0KWCBufX"
      },
      "execution_count": null,
      "outputs": []
    },
    {
      "cell_type": "markdown",
      "metadata": {
        "id": "FIvrOBakTuLP"
      },
      "source": [
        "## Classes\n",
        "Classes are used to define the blueprint for objects. They encapsulate data and functions that operate on the data. Here are some basic concepts of classes."
      ]
    },
    {
      "cell_type": "code",
      "execution_count": null,
      "metadata": {
        "id": "xrgDSqSmTuLR"
      },
      "outputs": [],
      "source": [
        "# Simple class example\n",
        "class Dog:\n",
        "    def __init__(self, name, age):\n",
        "        self.name = name\n",
        "        self.age = age\n",
        "\n",
        "    def bark(self):\n",
        "        return f'{self.name} says woof!'\n",
        "\n",
        "# Creating an instance of the Dog class\n",
        "my_dog = Dog('Buddy', 3)\n",
        "print(my_dog.name)  # Output: Buddy\n",
        "print(my_dog.age)   # Output: 3\n",
        "print(my_dog.bark())  # Output: Buddy says woof!"
      ]
    },
    {
      "cell_type": "markdown",
      "metadata": {
        "id": "ySivgEC1TuLS"
      },
      "source": [
        "## Using `self` in Classes\n",
        "The `self` parameter is a reference to the current instance of the class. It is used to access variables and methods associated with the class."
      ]
    },
    {
      "cell_type": "markdown",
      "metadata": {
        "id": "PH8aTAJdTuLS"
      },
      "source": [
        "## `__init__` Method\n",
        "The `__init__` method is a special method called a constructor. It is automatically invoked when a new instance of the class is created."
      ]
    },
    {
      "cell_type": "markdown",
      "metadata": {
        "id": "QHYcFrT_TuLT"
      },
      "source": [
        "## Inheritance\n",
        "Inheritance is a mechanism in which a new class inherits attributes and methods from an existing class."
      ]
    },
    {
      "cell_type": "code",
      "execution_count": null,
      "metadata": {
        "id": "CtISR9XHTuLU"
      },
      "outputs": [],
      "source": [
        "# Inheritance example\n",
        "class Animal:\n",
        "    def __init__(self, name, age):\n",
        "        self.name = name\n",
        "        self.age = age\n",
        "\n",
        "    def speak(self):\n",
        "        return f'{self.name} makes a sound'\n",
        "\n",
        "class Cat(Animal):\n",
        "    def __init__(self, name, color):\n",
        "        super().__init__(name)\n",
        "        self.color = color\n",
        "\n",
        "    def speak(self):\n",
        "        return f'{self.name} says meow'\n",
        "\n",
        "# Creating an instance of the Cat class\n",
        "my_cat = Cat('Whiskers', 'gray')\n",
        "print(my_cat.name)  # Output: Whiskers\n",
        "print(my_cat.color)  # Output: gray\n",
        "print(my_cat.speak())  # Output: Whiskers says meow"
      ]
    },
    {
      "cell_type": "code",
      "source": [
        "Animal('Dog', 5)"
      ],
      "metadata": {
        "id": "8xM0vmyyDnNn"
      },
      "execution_count": null,
      "outputs": []
    },
    {
      "cell_type": "code",
      "source": [
        "def do_foo(x: int, y: float, z: str) -> tuple:\n",
        "  x = x + 5\n",
        "  y = y + 0.5\n",
        "  z = 'Hello ' + z\n",
        "  return x, y, z\n",
        "\n",
        "do_foo(2, 3.4, 'Bob')"
      ],
      "metadata": {
        "colab": {
          "base_uri": "https://localhost:8080/"
        },
        "id": "CQPSDpaVCaXw",
        "outputId": "d5b5bfbd-7d17-43c1-bb77-660f3f8b23db"
      },
      "execution_count": null,
      "outputs": [
        {
          "output_type": "execute_result",
          "data": {
            "text/plain": [
              "(7, 3.9, 'Hello Bob')"
            ]
          },
          "metadata": {},
          "execution_count": 2
        }
      ]
    },
    {
      "cell_type": "markdown",
      "metadata": {
        "id": "dopowLGpTuLV"
      },
      "source": [
        "## Using `super`\n",
        "The `super` function is used to call a method from the parent class."
      ]
    }
  ],
  "metadata": {
    "kernelspec": {
      "display_name": "Python 3 (ipykernel)",
      "language": "python",
      "name": "python3"
    },
    "language_info": {
      "codemirror_mode": {
        "name": "ipython",
        "version": 3
      },
      "file_extension": ".py",
      "mimetype": "text/x-python",
      "name": "python",
      "nbconvert_exporter": "python",
      "pygments_lexer": "ipython3",
      "version": "3.11.5"
    },
    "colab": {
      "provenance": [],
      "include_colab_link": true
    }
  },
  "nbformat": 4,
  "nbformat_minor": 0
}